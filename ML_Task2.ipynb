{
  "cells": [
    {
      "cell_type": "markdown",
      "metadata": {
        "id": "view-in-github",
        "colab_type": "text"
      },
      "source": [
        "<a href=\"https://colab.research.google.com/github/mar4ello-hash/mnist-deep-learning/blob/main/ML_Task2.ipynb\" target=\"_parent\"><img src=\"https://colab.research.google.com/assets/colab-badge.svg\" alt=\"Open In Colab\"/></a>"
      ]
    },
    {
      "cell_type": "markdown",
      "metadata": {
        "id": "jE0GlWqSFIyo"
      },
      "source": [
        "## ***Task 2: Using a pre-built Deep Learning network***"
      ]
    },
    {
      "cell_type": "code",
      "execution_count": 1,
      "metadata": {
        "id": "EEMtg1-_SrP2",
        "colab": {
          "base_uri": "https://localhost:8080/"
        },
        "outputId": "af953e3d-3c74-4e77-f604-8669becacd5d"
      },
      "outputs": [
        {
          "output_type": "stream",
          "name": "stdout",
          "text": [
            "Mounted at /content/drive\n"
          ]
        }
      ],
      "source": [
        "import numpy as np\n",
        "import tensorflow as tf\n",
        "from matplotlib import pyplot as plt\n",
        "\n",
        "from google.colab import drive\n",
        "drive.mount('/content/drive')"
      ]
    },
    {
      "cell_type": "markdown",
      "metadata": {
        "id": "uieYGkzx9zaR"
      },
      "source": [
        "### ***Data preprocessing***"
      ]
    },
    {
      "cell_type": "code",
      "execution_count": 2,
      "metadata": {
        "id": "dl6JFCvD-D-e",
        "colab": {
          "base_uri": "https://localhost:8080/"
        },
        "outputId": "50ef7cba-b752-422c-e208-a67b76375cc4"
      },
      "outputs": [
        {
          "output_type": "stream",
          "name": "stdout",
          "text": [
            "(45000, 32, 32, 3) (45000, 20)\n",
            "(10000, 32, 32, 3) (10000, 20)\n",
            "(15000, 32, 32, 3) (15000, 20)\n"
          ]
        }
      ],
      "source": [
        "# AddNIST dataset\n",
        "train_X = np.load(\"/content/drive/My Drive/Colab Notebooks/Machine_Learning_Coursework/train_x.npy\", allow_pickle=True)\n",
        "train_y = np.load(\"/content/drive/My Drive/Colab Notebooks/Machine_Learning_Coursework/train_y.npy\", allow_pickle=True)\n",
        "\n",
        "test_X = np.load(\"/content/drive/My Drive/Colab Notebooks/Machine_Learning_Coursework/test_x.npy\", allow_pickle=True)\n",
        "test_y = np.load(\"/content/drive/My Drive/Colab Notebooks/Machine_Learning_Coursework/test_y.npy\", allow_pickle=True)\n",
        "\n",
        "valid_X = np.load(\"/content/drive/My Drive/Colab Notebooks/Machine_Learning_Coursework/valid_x.npy\", allow_pickle=True)\n",
        "valid_y = np.load(\"/content/drive/My Drive/Colab Notebooks/Machine_Learning_Coursework/valid_y.npy\", allow_pickle=True)\n",
        "\n",
        "# True test values\n",
        "tr = test_y\n",
        "\n",
        "# image: 32x32, classes: 0-19 \n",
        "def process(x, y):\n",
        "    p_x = np.moveaxis(x, 1, -1)\n",
        "    p_x = tf.image.resize(p_x, [32, 32])\n",
        "\n",
        "    p_y = tf.keras.utils.to_categorical(y, num_classes=20)\n",
        "\n",
        "    print(p_x.shape, p_y.shape)\n",
        "\n",
        "    return p_x, p_y\n",
        "\n",
        "# AddNIST dataset preprocessing\n",
        "train_X, train_y = process(train_X, train_y)\n",
        "test_X, test_y = process(test_X, test_y)\n",
        "valid_X, valid_y = process(valid_X, valid_y)\n"
      ]
    },
    {
      "cell_type": "markdown",
      "metadata": {
        "id": "TtgqsRb1F9GF"
      },
      "source": [
        "### ***AddNIST Visualization***"
      ]
    },
    {
      "cell_type": "code",
      "execution_count": 3,
      "metadata": {
        "id": "Ye6OI0zNGF2Y"
      },
      "outputs": [],
      "source": [
        "# Stephen's code\n",
        "\n",
        "def image_normalization(arr):\n",
        "    return (arr - arr.min())/(arr.max()-arr.min())\n",
        "\n",
        "def disable_ax_ticks(ax):\n",
        "    ax.set_xticks([])\n",
        "    ax.set_xticks([], minor=True)\n",
        "    ax.set_yticks([])\n",
        "    ax.set_yticks([], minor=True)\n",
        "\n",
        "def show_mnist_examples(x, y):\n",
        "\n",
        "    # small adjustments\n",
        "    x = np.moveaxis(x, -1, 0)\n",
        "\n",
        "    fig = plt.figure(constrained_layout=True,figsize=(6,4), dpi=100)\n",
        "    gs = fig.add_gridspec(3,4)\n",
        "    main_ax = fig.add_subplot(gs[:3,:3])\n",
        "    fig.suptitle(np.argmax(y))\n",
        "    #main_ax.imshow(np.moveaxis(x, 0, -1))# .imshow(x)\n",
        "    main_ax.imshow(image_normalization(np.moveaxis(x, 0, -1)))\n",
        "    disable_ax_ticks(main_ax)\n",
        "\n",
        "    for j in range(3):\n",
        "      c_ax = fig.add_subplot(gs[j,-1])\n",
        "      subimage = x.copy()\n",
        "      subimage[:j] = 0\n",
        "      subimage[j+1:] = 0\n",
        "      subimage[j] = subimage[j]-subimage[j].min()\n",
        "      c_ax.imshow(image_normalization(np.moveaxis(subimage, 0, -1)))\n",
        "      disable_ax_ticks(c_ax)\n",
        "    plt.show()"
      ]
    },
    {
      "cell_type": "markdown",
      "metadata": {
        "id": "rTK15K6GFSUo"
      },
      "source": [
        "### ***ResNet50V2***"
      ]
    },
    {
      "cell_type": "code",
      "execution_count": 4,
      "metadata": {
        "id": "O5RQbKiuGF58",
        "colab": {
          "base_uri": "https://localhost:8080/"
        },
        "outputId": "98f6a821-d9b6-4424-a6f7-76dcbd5221b3"
      },
      "outputs": [
        {
          "output_type": "stream",
          "name": "stdout",
          "text": [
            "Downloading data from https://storage.googleapis.com/tensorflow/keras-applications/resnet/resnet50v2_weights_tf_dim_ordering_tf_kernels_notop.h5\n",
            "94674944/94668760 [==============================] - 0s 0us/step\n",
            "94683136/94668760 [==============================] - 0s 0us/step\n"
          ]
        }
      ],
      "source": [
        "# Input\n",
        "input = tf.keras.Input(shape=(32, 32, 3))\n",
        "resnet = tf.keras.applications.ResNet50V2(weights='imagenet', include_top = False, input_tensor = input)\n",
        "\n",
        "gap = tf.keras.layers.GlobalMaxPooling2D()(resnet.output)\n",
        "\n",
        "# Batch normalization\n",
        "norm = tf.keras.layers.BatchNormalization()(gap) \n",
        "\n",
        "# Classifier layer / output\n",
        "output = tf.keras.layers.Dense(20, activation='softmax', use_bias=True)(norm)\n",
        "\n",
        "# Building\n",
        "model = tf.keras.Model(resnet.input, output)\n",
        "\n",
        "# Summary\n",
        "# model.summary()"
      ]
    },
    {
      "cell_type": "markdown",
      "metadata": {
        "id": "kCriBfSwPrLx"
      },
      "source": [
        "### ***Model training***"
      ]
    },
    {
      "cell_type": "code",
      "execution_count": 5,
      "metadata": {
        "id": "SfG8BSamZAaW",
        "colab": {
          "base_uri": "https://localhost:8080/"
        },
        "outputId": "a16ecd3d-5d3c-43b4-c584-5527fed971cd"
      },
      "outputs": [
        {
          "output_type": "stream",
          "name": "stdout",
          "text": [
            "Epoch 1/30\n",
            "88/88 [==============================] - 49s 304ms/step - loss: 2.8581 - categorical_accuracy: 0.1109 - val_loss: 12.9112 - val_categorical_accuracy: 0.0694\n",
            "Epoch 2/30\n",
            "88/88 [==============================] - 17s 197ms/step - loss: 2.0861 - categorical_accuracy: 0.2966 - val_loss: 4.3235 - val_categorical_accuracy: 0.1813\n",
            "Epoch 3/30\n",
            "88/88 [==============================] - 17s 195ms/step - loss: 1.5839 - categorical_accuracy: 0.4639 - val_loss: 1.9817 - val_categorical_accuracy: 0.4145\n",
            "Epoch 4/30\n",
            "88/88 [==============================] - 17s 192ms/step - loss: 1.1626 - categorical_accuracy: 0.6297 - val_loss: 1.6820 - val_categorical_accuracy: 0.5176\n",
            "Epoch 5/30\n",
            "88/88 [==============================] - 17s 192ms/step - loss: 0.7954 - categorical_accuracy: 0.7570 - val_loss: 1.4300 - val_categorical_accuracy: 0.6374\n",
            "Epoch 6/30\n",
            "88/88 [==============================] - 17s 194ms/step - loss: 0.5751 - categorical_accuracy: 0.8263 - val_loss: 1.1057 - val_categorical_accuracy: 0.7139\n",
            "Epoch 7/30\n",
            "88/88 [==============================] - 17s 194ms/step - loss: 0.4420 - categorical_accuracy: 0.8678 - val_loss: 1.1872 - val_categorical_accuracy: 0.7111\n",
            "Epoch 8/30\n",
            "88/88 [==============================] - 17s 193ms/step - loss: 0.3623 - categorical_accuracy: 0.8905 - val_loss: 2.5095 - val_categorical_accuracy: 0.5727\n",
            "Epoch 9/30\n",
            "88/88 [==============================] - 17s 193ms/step - loss: 0.3072 - categorical_accuracy: 0.9067 - val_loss: 0.9976 - val_categorical_accuracy: 0.7427\n",
            "Epoch 10/30\n",
            "88/88 [==============================] - 17s 193ms/step - loss: 0.2459 - categorical_accuracy: 0.9248 - val_loss: 0.8664 - val_categorical_accuracy: 0.7814\n",
            "Epoch 11/30\n",
            "88/88 [==============================] - 17s 194ms/step - loss: 0.2003 - categorical_accuracy: 0.9375 - val_loss: 0.8076 - val_categorical_accuracy: 0.7986\n",
            "Epoch 12/30\n",
            "88/88 [==============================] - 17s 194ms/step - loss: 0.1765 - categorical_accuracy: 0.9450 - val_loss: 0.7239 - val_categorical_accuracy: 0.8176\n",
            "Epoch 13/30\n",
            "88/88 [==============================] - 17s 193ms/step - loss: 0.1667 - categorical_accuracy: 0.9472 - val_loss: 0.8347 - val_categorical_accuracy: 0.8072\n",
            "Epoch 14/30\n",
            "88/88 [==============================] - 17s 193ms/step - loss: 0.1413 - categorical_accuracy: 0.9555 - val_loss: 0.9436 - val_categorical_accuracy: 0.7813\n",
            "Epoch 15/30\n",
            "88/88 [==============================] - 17s 193ms/step - loss: 0.1280 - categorical_accuracy: 0.9588 - val_loss: 0.8570 - val_categorical_accuracy: 0.8049\n",
            "Epoch 16/30\n",
            "88/88 [==============================] - 17s 192ms/step - loss: 0.1217 - categorical_accuracy: 0.9610 - val_loss: 0.7516 - val_categorical_accuracy: 0.8239\n",
            "Epoch 17/30\n",
            "88/88 [==============================] - 17s 192ms/step - loss: 0.1068 - categorical_accuracy: 0.9659 - val_loss: 0.8116 - val_categorical_accuracy: 0.8109\n",
            "Epoch 18/30\n",
            "88/88 [==============================] - 17s 192ms/step - loss: 0.0959 - categorical_accuracy: 0.9693 - val_loss: 0.8977 - val_categorical_accuracy: 0.7991\n",
            "Epoch 19/30\n",
            "88/88 [==============================] - 17s 192ms/step - loss: 0.0814 - categorical_accuracy: 0.9746 - val_loss: 0.8072 - val_categorical_accuracy: 0.8171\n",
            "Epoch 20/30\n",
            "88/88 [==============================] - 17s 193ms/step - loss: 0.0807 - categorical_accuracy: 0.9740 - val_loss: 0.8688 - val_categorical_accuracy: 0.8103\n",
            "Epoch 21/30\n",
            "88/88 [==============================] - 17s 193ms/step - loss: 0.0829 - categorical_accuracy: 0.9731 - val_loss: 1.1055 - val_categorical_accuracy: 0.7598\n",
            "Epoch 22/30\n",
            "88/88 [==============================] - 17s 193ms/step - loss: 0.0832 - categorical_accuracy: 0.9731 - val_loss: 0.8037 - val_categorical_accuracy: 0.8253\n",
            "Epoch 23/30\n",
            "88/88 [==============================] - 17s 193ms/step - loss: 0.0775 - categorical_accuracy: 0.9753 - val_loss: 0.7597 - val_categorical_accuracy: 0.8362\n",
            "Epoch 24/30\n",
            "88/88 [==============================] - 17s 193ms/step - loss: 0.0672 - categorical_accuracy: 0.9791 - val_loss: 0.8314 - val_categorical_accuracy: 0.8201\n",
            "Epoch 25/30\n",
            "88/88 [==============================] - 17s 193ms/step - loss: 0.0699 - categorical_accuracy: 0.9783 - val_loss: 0.8336 - val_categorical_accuracy: 0.8255\n",
            "Epoch 26/30\n",
            "88/88 [==============================] - 17s 193ms/step - loss: 0.0600 - categorical_accuracy: 0.9806 - val_loss: 0.7505 - val_categorical_accuracy: 0.8381\n",
            "Epoch 27/30\n",
            "88/88 [==============================] - 17s 194ms/step - loss: 0.0649 - categorical_accuracy: 0.9789 - val_loss: 0.9121 - val_categorical_accuracy: 0.8093\n",
            "Epoch 28/30\n",
            "88/88 [==============================] - 17s 193ms/step - loss: 0.0584 - categorical_accuracy: 0.9810 - val_loss: 0.7956 - val_categorical_accuracy: 0.8303\n",
            "Epoch 29/30\n",
            "88/88 [==============================] - 17s 193ms/step - loss: 0.0592 - categorical_accuracy: 0.9807 - val_loss: 0.7934 - val_categorical_accuracy: 0.8352\n",
            "Epoch 30/30\n",
            "88/88 [==============================] - 17s 194ms/step - loss: 0.0643 - categorical_accuracy: 0.9784 - val_loss: 0.8460 - val_categorical_accuracy: 0.8226\n"
          ]
        }
      ],
      "source": [
        "# Model optimizer, loss and metrics\n",
        "model.compile(optimizer='adam',\n",
        "              loss='categorical_crossentropy',\n",
        "              metrics=['categorical_accuracy'])\n",
        "\n",
        "# Fit (Don't forget to re-build the model before training)\n",
        "history = model.fit(train_X, train_y, epochs=30, batch_size=512, validation_data=(valid_X, valid_y))"
      ]
    },
    {
      "cell_type": "markdown",
      "metadata": {
        "id": "PTOkIJchzY_Z"
      },
      "source": [
        "### ***Metrics***"
      ]
    },
    {
      "cell_type": "code",
      "execution_count": 6,
      "metadata": {
        "id": "HK8HxIEJzXWl",
        "colab": {
          "base_uri": "https://localhost:8080/",
          "height": 660
        },
        "outputId": "94de8747-899f-4787-c988-b9336df77aaf"
      },
      "outputs": [
        {
          "output_type": "display_data",
          "data": {
            "text/plain": [
              "<Figure size 432x288 with 1 Axes>"
            ],
            "image/png": "[encoded data removed]"
          },
          "metadata": {
            "needs_background": "light"
          }
        },
        {
          "output_type": "stream",
          "name": "stdout",
          "text": [
            "===================================================\n"
          ]
        },
        {
          "output_type": "display_data",
          "data": {
            "text/plain": [
              "<Figure size 432x288 with 1 Axes>"
            ],
            "image/png": "[encoded data removed]"
          },
          "metadata": {
            "needs_background": "light"
          }
        },
        {
          "output_type": "stream",
          "name": "stdout",
          "text": [
            "===================================================\n",
            "Accuracy: 0.8309999704360962\n",
            "Loss: 0.8009229302406311\n",
            "F1 score: 0.831\n"
          ]
        }
      ],
      "source": [
        "# History for accuracy\n",
        "plt.plot(history.history['categorical_accuracy'])\n",
        "plt.plot(history.history['val_categorical_accuracy'])\n",
        "plt.title('Model accuracy')\n",
        "plt.ylabel('accuracy')\n",
        "plt.xlabel('epoch')\n",
        "plt.legend(['train', 'val'], loc='upper left')\n",
        "plt.show()\n",
        "\n",
        "print('===================================================')\n",
        "\n",
        "# History for loss\n",
        "plt.plot(history.history['loss'])\n",
        "plt.plot(history.history['val_loss'])\n",
        "plt.title('Model loss')\n",
        "plt.ylabel('loss')\n",
        "plt.xlabel('epoch')\n",
        "plt.legend(['train', 'val'], loc='upper left')\n",
        "plt.show()\n",
        "\n",
        "score = model.evaluate(test_X, test_y, verbose=0)\n",
        "print('===================================================')\n",
        "print('Accuracy:', score[1])\n",
        "print('Loss:', score[0])\n",
        "\n",
        "from sklearn.metrics import f1_score\n",
        "prediction = model.predict(test_X)\n",
        "\n",
        "pr = []\n",
        "for i in range(prediction.shape[0]):\n",
        "    pr.append(np.argmax(prediction[i]))\n",
        "\n",
        "# to numpy array\n",
        "pr = np.asarray(pr)\n",
        "\n",
        "# F1 score 2*(precision*recall/precision+recall)\n",
        "print(\"F1 score:\", f1_score(tr, pr, average='micro'))\n"
      ]
    },
    {
      "cell_type": "markdown",
      "metadata": {
        "id": "1TXR93XWHa1x"
      },
      "source": [
        "### ***Random prediction***"
      ]
    },
    {
      "cell_type": "code",
      "execution_count": 7,
      "metadata": {
        "id": "USi1Xt5NEheX",
        "colab": {
          "base_uri": "https://localhost:8080/",
          "height": 462
        },
        "outputId": "dc29a122-bbad-4b0e-a159-64a8801a1eb1"
      },
      "outputs": [
        {
          "output_type": "display_data",
          "data": {
            "text/plain": [
              "<Figure size 600x400 with 4 Axes>"
            ],
            "image/png": "[encoded data removed]"
          },
          "metadata": {}
        },
        {
          "output_type": "stream",
          "name": "stdout",
          "text": [
            "================================================================\n",
            " Final prediction for your sample using ResNet50V2 Deep Learning model: 18\n"
          ]
        }
      ],
      "source": [
        "import random\n",
        "\n",
        "count = test_X.shape[0]\n",
        "ri = random.randrange(count)\n",
        "\n",
        "# Visualization\n",
        "show_mnist_examples(test_X[ri], test_y[ri])\n",
        "\n",
        "# Prediction\n",
        "print('================================================================\\n',\n",
        "      'Final prediction for your sample using ResNet50V2 Deep Learning model:', \n",
        "      np.argmax(model.predict(np.array([test_X[ri]]))))"
      ]
    }
  ],
  "metadata": {
    "accelerator": "GPU",
    "colab": {
      "collapsed_sections": [
        "TtgqsRb1F9GF"
      ],
      "name": "ML_Task2.ipynb",
      "provenance": [],
      "authorship_tag": "ABX9TyOmsMRxosxIvJwpZ0UXpwBU",
      "include_colab_link": true
    },
    "kernelspec": {
      "display_name": "Python 3",
      "name": "python3"
    },
    "language_info": {
      "name": "python"
    }
  },
  "nbformat": 4,
  "nbformat_minor": 0
}
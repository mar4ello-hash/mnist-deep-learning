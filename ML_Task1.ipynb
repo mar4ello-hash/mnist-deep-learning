{
  "nbformat": 4,
  "nbformat_minor": 0,
  "metadata": {
    "colab": {
      "name": "ML_Task1.ipynb",
      "provenance": [],
      "collapsed_sections": [
        "0-P2XanhEuYX"
      ],
      "authorship_tag": "ABX9TyNW8heyDMXYqYmWogrADLuz",
      "include_colab_link": true
    },
    "kernelspec": {
      "name": "python3",
      "display_name": "Python 3"
    },
    "language_info": {
      "name": "python"
    },
    "accelerator": "GPU"
  },
  "cells": [
    {
      "cell_type": "markdown",
      "metadata": {
        "id": "view-in-github",
        "colab_type": "text"
      },
      "source": [
        "<a href=\"https://colab.research.google.com/github/mar4ello-hash/mnist-deep-learning/blob/main/ML_Task1.ipynb\" target=\"_parent\"><img src=\"https://colab.research.google.com/assets/colab-badge.svg\" alt=\"Open In Colab\"/></a>"
      ]
    },
    {
      "cell_type": "markdown",
      "metadata": {
        "id": "YHzc3kMtSouJ"
      },
      "source": [
        "## ***Task 1: Train an MNIST Deep Learning network to recognise the digits 0 to 9 from MNIST***"
      ]
    },
    {
      "cell_type": "code",
      "metadata": {
        "id": "pncnUa58SnAu",
        "colab": {
          "base_uri": "https://localhost:8080/"
        },
        "outputId": "914a4b7a-7ee0-4b95-a6aa-85bdb9c0cce5"
      },
      "source": [
        "import numpy as np\n",
        "import tensorflow as tf\n",
        "from matplotlib import pyplot as plt\n",
        "from sklearn.model_selection import train_test_split\n",
        "\n",
        "from google.colab import drive\n",
        "drive.mount('/content/drive')"
      ],
      "execution_count": 2,
      "outputs": [
        {
          "output_type": "stream",
          "name": "stdout",
          "text": [
            "Mounted at /content/drive\n"
          ]
        }
      ]
    },
    {
      "cell_type": "markdown",
      "source": [
        "### ***Data preprocessing***"
      ],
      "metadata": {
        "id": "pPFrryX_Cgof"
      }
    },
    {
      "cell_type": "code",
      "metadata": {
        "id": "pCH-QADkTV1K",
        "colab": {
          "base_uri": "https://localhost:8080/",
          "height": 704
        },
        "outputId": "42b9c306-4b23-4882-ac57-e61c9dc8902c"
      },
      "source": [
        "# AddNIST dataset\n",
        "test_X = np.load(\"/content/drive/My Drive/Colab Notebooks/Machine_Learning_Coursework/test_x.npy\", allow_pickle=True)\n",
        "test_y = np.load(\"/content/drive/My Drive/Colab Notebooks/Machine_Learning_Coursework/test_y.npy\", allow_pickle=True)\n",
        "\n",
        "# MNIST dataset\n",
        "mnist = tf.keras.datasets.mnist\n",
        "(mnist_train_X, mnist_train_y), (mnist_test_X, mnist_test_y) = mnist.load_data()\n",
        "\n",
        "# Splitting mnist_train data into train and valid \n",
        "mnist_train_X, mnist_valid_X, mnist_train_y, mnist_valid_y = train_test_split(mnist_train_X, mnist_train_y, train_size=5/6)\n",
        "\n",
        "print('MNIST Train: ', (mnist_train_X.shape))\n",
        "print('MNIST Test: ', (mnist_test_X.shape))\n",
        "print('MNIST Valid: ', (mnist_valid_X.shape))\n",
        "\n",
        "print('AddNIST Test: ', (test_X.shape))\n",
        "\n",
        "# Image before data normalization\n",
        "print('\\nSample before normalization:')\n",
        "plt.imshow(mnist_train_X[0], cmap=plt.get_cmap('gray'))\n",
        "plt.show()\n",
        "# print(train_X[0])\n",
        "\n",
        "# Data normalization for better training\n",
        "mnist_train_X = tf.keras.utils.normalize(mnist_train_X, axis=1)\n",
        "mnist_test_X = tf.keras.utils.normalize(mnist_test_X, axis=1)\n",
        "mnsit_valid_X = tf.keras.utils.normalize(mnist_valid_X, axis=1)\n",
        "\n",
        "# Image after data normalization\n",
        "print('\\nSample after normalization:')\n",
        "plt.imshow(mnist_train_X[0], cmap=plt.get_cmap('gray'))\n",
        "plt.show()\n",
        "# print(train_X[0])"
      ],
      "execution_count": 3,
      "outputs": [
        {
          "output_type": "stream",
          "name": "stdout",
          "text": [
            "Downloading data from https://storage.googleapis.com/tensorflow/tf-keras-datasets/mnist.npz\n",
            "11493376/11490434 [==============================] - 0s 0us/step\n",
            "11501568/11490434 [==============================] - 0s 0us/step\n",
            "MNIST Train:  (50000, 28, 28)\n",
            "MNIST Test:  (10000, 28, 28)\n",
            "MNIST Valid:  (10000, 28, 28)\n",
            "AddNIST Test:  (10000, 3, 28, 28)\n",
            "\n",
            "Sample before normalization:\n"
          ]
        },
        {
          "output_type": "display_data",
          "data": {
            "text/plain": [
              "<Figure size 432x288 with 1 Axes>"
            ],
            "image/png": "[encoded data removed]"
          },
          "metadata": {
            "needs_background": "light"
          }
        },
        {
          "output_type": "stream",
          "name": "stdout",
          "text": [
            "\n",
            "Sample after normalization:\n"
          ]
        },
        {
          "output_type": "display_data",
          "data": {
            "text/plain": [
              "<Figure size 432x288 with 1 Axes>"
            ],
            "image/png": "[encoded data removed]"
          },
          "metadata": {
            "needs_background": "light"
          }
        }
      ]
    },
    {
      "cell_type": "markdown",
      "source": [
        "### ***Model building***"
      ],
      "metadata": {
        "id": "N0vfaY1M__sf"
      }
    },
    {
      "cell_type": "code",
      "metadata": {
        "id": "dW5Z-k0Fe3gh"
      },
      "source": [
        "def build_model(x, y):\n",
        "\n",
        "    model = tf.keras.models.Sequential()\n",
        "    model.add(tf.keras.layers.Flatten())\n",
        "\n",
        "    model.add(tf.keras.layers.Dense(256, activation='relu'))\n",
        "\n",
        "    model.add(tf.keras.layers.Dense(128, activation='relu'))\n",
        "    model.add(tf.keras.layers.Dense(128, activation='relu'))\n",
        "\n",
        "    model.add(tf.keras.layers.Dense(100, activation='relu'))\n",
        "    model.add(tf.keras.layers.Dense(10, activation='softmax'))\n",
        "\n",
        "    model.compile(optimizer='adam',\n",
        "                  loss='sparse_categorical_crossentropy',\n",
        "                  metrics=['accuracy'])\n",
        "\n",
        "    history = model.fit(x, y, epochs=20, batch_size=64, validation_data=(mnist_valid_X, mnist_valid_y))\n",
        "\n",
        "    return model, history"
      ],
      "execution_count": 4,
      "outputs": []
    },
    {
      "cell_type": "markdown",
      "source": [
        "### ***MNIST model overview***"
      ],
      "metadata": {
        "id": "mx-pFthBD0yl"
      }
    },
    {
      "cell_type": "code",
      "source": [
        "mnist_model, history = build_model(mnist_train_X, mnist_train_y)\n",
        "\n",
        "# Model summary\n",
        "mnist_model.summary()\n",
        "mnist_model.save('mnist_DL.model')"
      ],
      "metadata": {
        "id": "0P8qMxqIDzgv",
        "colab": {
          "base_uri": "https://localhost:8080/"
        },
        "outputId": "b4dd785b-3206-4879-961a-c2c5e9c485ea"
      },
      "execution_count": 5,
      "outputs": [
        {
          "output_type": "stream",
          "name": "stdout",
          "text": [
            "Epoch 1/20\n",
            "782/782 [==============================] - 6s 3ms/step - loss: 0.2913 - accuracy: 0.9131 - val_loss: 94.5174 - val_accuracy: 0.9297\n",
            "Epoch 2/20\n",
            "782/782 [==============================] - 2s 3ms/step - loss: 0.1105 - accuracy: 0.9660 - val_loss: 57.3401 - val_accuracy: 0.9544\n",
            "Epoch 3/20\n",
            "782/782 [==============================] - 2s 3ms/step - loss: 0.0712 - accuracy: 0.9772 - val_loss: 58.8746 - val_accuracy: 0.9580\n",
            "Epoch 4/20\n",
            "782/782 [==============================] - 2s 3ms/step - loss: 0.0525 - accuracy: 0.9831 - val_loss: 82.9398 - val_accuracy: 0.9573\n",
            "Epoch 5/20\n",
            "782/782 [==============================] - 2s 3ms/step - loss: 0.0393 - accuracy: 0.9875 - val_loss: 78.0987 - val_accuracy: 0.9570\n",
            "Epoch 6/20\n",
            "782/782 [==============================] - 2s 3ms/step - loss: 0.0350 - accuracy: 0.9884 - val_loss: 65.3673 - val_accuracy: 0.9639\n",
            "Epoch 7/20\n",
            "782/782 [==============================] - 3s 3ms/step - loss: 0.0274 - accuracy: 0.9909 - val_loss: 74.0105 - val_accuracy: 0.9649\n",
            "Epoch 8/20\n",
            "782/782 [==============================] - 2s 3ms/step - loss: 0.0247 - accuracy: 0.9922 - val_loss: 104.3811 - val_accuracy: 0.9555\n",
            "Epoch 9/20\n",
            "782/782 [==============================] - 2s 3ms/step - loss: 0.0185 - accuracy: 0.9943 - val_loss: 112.2317 - val_accuracy: 0.9575\n",
            "Epoch 10/20\n",
            "782/782 [==============================] - 2s 3ms/step - loss: 0.0210 - accuracy: 0.9929 - val_loss: 120.6462 - val_accuracy: 0.9516\n",
            "Epoch 11/20\n",
            "782/782 [==============================] - 3s 4ms/step - loss: 0.0197 - accuracy: 0.9936 - val_loss: 143.8102 - val_accuracy: 0.9502\n",
            "Epoch 12/20\n",
            "782/782 [==============================] - 3s 3ms/step - loss: 0.0157 - accuracy: 0.9950 - val_loss: 102.0862 - val_accuracy: 0.9627\n",
            "Epoch 13/20\n",
            "782/782 [==============================] - 2s 3ms/step - loss: 0.0122 - accuracy: 0.9961 - val_loss: 131.7355 - val_accuracy: 0.9564\n",
            "Epoch 14/20\n",
            "782/782 [==============================] - 3s 3ms/step - loss: 0.0150 - accuracy: 0.9951 - val_loss: 137.8990 - val_accuracy: 0.9532\n",
            "Epoch 15/20\n",
            "782/782 [==============================] - 3s 3ms/step - loss: 0.0122 - accuracy: 0.9963 - val_loss: 129.0063 - val_accuracy: 0.9605\n",
            "Epoch 16/20\n",
            "782/782 [==============================] - 3s 3ms/step - loss: 0.0146 - accuracy: 0.9953 - val_loss: 124.6369 - val_accuracy: 0.9621\n",
            "Epoch 17/20\n",
            "782/782 [==============================] - 2s 3ms/step - loss: 0.0105 - accuracy: 0.9966 - val_loss: 150.6603 - val_accuracy: 0.9533\n",
            "Epoch 18/20\n",
            "782/782 [==============================] - 2s 3ms/step - loss: 0.0098 - accuracy: 0.9970 - val_loss: 105.3431 - val_accuracy: 0.9595\n",
            "Epoch 19/20\n",
            "782/782 [==============================] - 2s 3ms/step - loss: 0.0100 - accuracy: 0.9972 - val_loss: 107.5483 - val_accuracy: 0.9660\n",
            "Epoch 20/20\n",
            "782/782 [==============================] - 2s 3ms/step - loss: 0.0100 - accuracy: 0.9969 - val_loss: 133.7409 - val_accuracy: 0.9598\n",
            "Model: \"sequential\"\n",
            "_________________________________________________________________\n",
            " Layer (type)                Output Shape              Param #   \n",
            "=================================================================\n",
            " flatten (Flatten)           (None, 784)               0         \n",
            "                                                                 \n",
            " dense (Dense)               (None, 256)               200960    \n",
            "                                                                 \n",
            " dense_1 (Dense)             (None, 128)               32896     \n",
            "                                                                 \n",
            " dense_2 (Dense)             (None, 128)               16512     \n",
            "                                                                 \n",
            " dense_3 (Dense)             (None, 100)               12900     \n",
            "                                                                 \n",
            " dense_4 (Dense)             (None, 10)                1010      \n",
            "                                                                 \n",
            "=================================================================\n",
            "Total params: 264,278\n",
            "Trainable params: 264,278\n",
            "Non-trainable params: 0\n",
            "_________________________________________________________________\n",
            "INFO:tensorflow:Assets written to: mnist_DL.model/assets\n"
          ]
        }
      ]
    },
    {
      "cell_type": "markdown",
      "source": [
        "### ***AddNIST Visualization***"
      ],
      "metadata": {
        "id": "0-P2XanhEuYX"
      }
    },
    {
      "cell_type": "code",
      "metadata": {
        "id": "rXtmXf8ZQ2rq"
      },
      "source": [
        "# Stephen's code\n",
        "\n",
        "def image_normalization(arr):\n",
        "    return (arr - arr.min())/(arr.max()-arr.min())\n",
        "\n",
        "def disable_ax_ticks(ax):\n",
        "    ax.set_xticks([])\n",
        "    ax.set_xticks([], minor=True)\n",
        "    ax.set_yticks([])\n",
        "    ax.set_yticks([], minor=True)\n",
        "\n",
        "def show_mnist_examples(x, y):\n",
        "    fig = plt.figure(constrained_layout=True,figsize=(6,4), dpi=100)\n",
        "    gs = fig.add_gridspec(3,4)\n",
        "    main_ax = fig.add_subplot(gs[:3,:3])\n",
        "    fig.suptitle(y)\n",
        "    #main_ax.imshow(np.moveaxis(x, 0, -1))# .imshow(x)\n",
        "    main_ax.imshow(image_normalization(np.moveaxis(x, 0, -1)))\n",
        "    disable_ax_ticks(main_ax)\n",
        "\n",
        "    for j in range(3):\n",
        "      c_ax = fig.add_subplot(gs[j,-1])\n",
        "      subimage = x.copy()\n",
        "      subimage[:j] = 0\n",
        "      subimage[j+1:] = 0\n",
        "      subimage[j] = subimage[j]-subimage[j].min()\n",
        "      c_ax.imshow(image_normalization(np.moveaxis(subimage, 0, -1)))\n",
        "      disable_ax_ticks(c_ax)\n",
        "    plt.show()"
      ],
      "execution_count": 6,
      "outputs": []
    },
    {
      "cell_type": "markdown",
      "source": [
        "### ***AddNIST Sample(s) prediction***"
      ],
      "metadata": {
        "id": "Q6fTrhPjKgiw"
      }
    },
    {
      "cell_type": "code",
      "source": [
        "# Single sample prediction - test_X[i]\n",
        "def SamplePred(x, model):\n",
        "\n",
        "    digits = []\n",
        "    print('___________________________________________\\n',\n",
        "          'Color Channels:')\n",
        "    for i in range(3):\n",
        "      \n",
        "      # Color channel separation\n",
        "      piece = x.copy()\n",
        "      piece[:i] = 0\n",
        "      piece[i+1:] = 0\n",
        "      piece[i] = piece[i]-piece[i].min()\n",
        "\n",
        "      # Prediction of a single channel\n",
        "      prediction = np.argmax(model.predict(np.array([piece[i]]))) # (None, 28, 28)\n",
        "\n",
        "      print(i+1, 'digit:', prediction)\n",
        "      digits.append(prediction)\n",
        "\n",
        "    finalPrediction = sum(digits) - 1\n",
        "\n",
        "    return finalPrediction\n",
        "\n",
        "# Dataset predictions - test_X\n",
        "def dataPred(x, model, length):\n",
        "\n",
        "    # test_X[0] = 10000 (Computationally expensive)\n",
        "\n",
        "    finalPred = np.array([])\n",
        "\n",
        "    for i in range(length): # (i, 3, 28, 28)\n",
        "\n",
        "      digits = np.array([])      \n",
        "      for j in range(3):\n",
        "        \n",
        "        piece = x[i].copy()\n",
        "        piece[:j] = 0\n",
        "        piece[j+1:] = 0\n",
        "        piece[j] = piece[j]-piece[j].min()\n",
        "\n",
        "        prediction = np.argmax(model.predict(np.array([piece[j]])))\n",
        "        digits = np.append(digits, prediction) \n",
        "      \n",
        "      finalPred = np.append(finalPred, sum(digits) - 1).astype(int)\n",
        "\n",
        "    return finalPred"
      ],
      "metadata": {
        "id": "FalmkeuFJOmB"
      },
      "execution_count": 7,
      "outputs": []
    },
    {
      "cell_type": "markdown",
      "source": [
        "### ***Random Sample Prediction***"
      ],
      "metadata": {
        "id": "TU1BZyJULRK1"
      }
    },
    {
      "cell_type": "code",
      "metadata": {
        "id": "YGJjHrFpYQpb",
        "colab": {
          "base_uri": "https://localhost:8080/",
          "height": 550
        },
        "outputId": "6bd02f2e-3630-45e1-d2e9-0137b5e8eb55"
      },
      "source": [
        "import random\n",
        "\n",
        "count = test_X.shape[0]\n",
        "ri = random.randrange(count)\n",
        "\n",
        "# Visualization\n",
        "show_mnist_examples(test_X[ri], test_y[ri])\n",
        "\n",
        "# Random Sample Prediction\n",
        "prediction = SamplePred(test_X[ri], mnist_model)\n",
        "\n",
        "print('================================================================\\n',\n",
        "      'Final prediction for your sample using MNIST Deep Learning model:', prediction)\n",
        "\n"
      ],
      "execution_count": 8,
      "outputs": [
        {
          "output_type": "display_data",
          "data": {
            "text/plain": [
              "<Figure size 600x400 with 4 Axes>"
            ],
            "image/png": "[encoded data removed]"
          },
          "metadata": {}
        },
        {
          "output_type": "stream",
          "name": "stdout",
          "text": [
            "___________________________________________\n",
            " Color Channels:\n",
            "1 digit: 8\n",
            "2 digit: 3\n",
            "3 digit: 0\n",
            "================================================================\n",
            " Final prediction for your sample using MNIST Deep Learning model: 10\n"
          ]
        }
      ]
    },
    {
      "cell_type": "markdown",
      "source": [
        "### ***First 400 predictions***"
      ],
      "metadata": {
        "id": "EpbiHZ9z968S"
      }
    },
    {
      "cell_type": "code",
      "source": [
        "pr = dataPred(test_X, mnist_model, 400)"
      ],
      "metadata": {
        "id": "ETFTHpEaiC-u"
      },
      "execution_count": 9,
      "outputs": []
    },
    {
      "cell_type": "markdown",
      "source": [
        "### ***Overall Solution Metrics***"
      ],
      "metadata": {
        "id": "KuAYNfHqaRm1"
      }
    },
    {
      "cell_type": "code",
      "source": [
        "# Since we are getting our final prediction outside of the model:\n",
        "from sklearn.metrics import f1_score\n",
        "\n",
        "# Loss & Accuracy using MNIST test x, y\n",
        "val_loss, val_acc = mnist_model.evaluate(mnist_test_X, mnist_test_y, verbose=0)\n",
        "\n",
        "# True values y\n",
        "tr = test_y[:400]\n",
        "# tr = tf.keras.utils.to_categorical(tr, num_classes=20)\n",
        "\n",
        "# F1 score 2*(precision*recall/precision+recall)\n",
        "print('Metrics\\n',\n",
        "      '___________________________________________\\n',\n",
        "      'Accuracy: ', val_acc, '\\n',\n",
        "      'Loss: ', val_loss, '\\n',\n",
        "      'F1 score:', f1_score(tr, pr, average='micro'))\n"
      ],
      "metadata": {
        "id": "uVLYR4zpMp7H",
        "colab": {
          "base_uri": "https://localhost:8080/"
        },
        "outputId": "9c220487-14a6-400f-a04d-0b6231dc56fe"
      },
      "execution_count": 10,
      "outputs": [
        {
          "output_type": "stream",
          "name": "stdout",
          "text": [
            "Metrics\n",
            " ___________________________________________\n",
            " Accuracy:  0.975600004196167 \n",
            " Loss:  0.14827366173267365 \n",
            " F1 score: 0.905\n"
          ]
        }
      ]
    },
    {
      "cell_type": "markdown",
      "source": [
        "### ***True vs Predicted values***"
      ],
      "metadata": {
        "id": "_o4rpZR4_n73"
      }
    },
    {
      "cell_type": "code",
      "source": [
        "for i in range(len(tr)):\n",
        "\n",
        "    if(tr[i] == pr[i]):\n",
        "      print(i, ' True value: ', tr[i], ' Predicted value: ', pr[i])\n",
        "\n",
        "    else:\n",
        "      print(i, '\\033[2;37;41m True value: ', tr[i], ' Predicted value: ', pr[i], '\\033[0;0m')\n",
        " "
      ],
      "metadata": {
        "id": "i0hKHl-ta0na",
        "colab": {
          "base_uri": "https://localhost:8080/"
        },
        "outputId": "66ecf902-98d6-45be-dfea-e4a552354ff1"
      },
      "execution_count": 11,
      "outputs": [
        {
          "output_type": "stream",
          "name": "stdout",
          "text": [
            "0  True value:  4  Predicted value:  4\n",
            "1 \u001b[2;37;41m True value:  15  Predicted value:  16 \u001b[0;0m\n",
            "2  True value:  1  Predicted value:  1\n",
            "3  True value:  5  Predicted value:  5\n",
            "4  True value:  17  Predicted value:  17\n",
            "5  True value:  19  Predicted value:  19\n",
            "6  True value:  1  Predicted value:  1\n",
            "7  True value:  14  Predicted value:  14\n",
            "8  True value:  8  Predicted value:  8\n",
            "9  True value:  13  Predicted value:  13\n",
            "10  True value:  18  Predicted value:  18\n",
            "11  True value:  18  Predicted value:  18\n",
            "12  True value:  12  Predicted value:  12\n",
            "13  True value:  19  Predicted value:  19\n",
            "14  True value:  18  Predicted value:  18\n",
            "15  True value:  16  Predicted value:  16\n",
            "16  True value:  14  Predicted value:  14\n",
            "17  True value:  9  Predicted value:  9\n",
            "18  True value:  10  Predicted value:  10\n",
            "19 \u001b[2;37;41m True value:  0  Predicted value:  3 \u001b[0;0m\n",
            "20  True value:  3  Predicted value:  3\n",
            "21  True value:  1  Predicted value:  1\n",
            "22  True value:  15  Predicted value:  15\n",
            "23 \u001b[2;37;41m True value:  19  Predicted value:  17 \u001b[0;0m\n",
            "24  True value:  16  Predicted value:  16\n",
            "25 \u001b[2;37;41m True value:  11  Predicted value:  18 \u001b[0;0m\n",
            "26  True value:  13  Predicted value:  13\n",
            "27  True value:  14  Predicted value:  14\n",
            "28  True value:  12  Predicted value:  12\n",
            "29  True value:  6  Predicted value:  6\n",
            "30  True value:  11  Predicted value:  11\n",
            "31  True value:  11  Predicted value:  11\n",
            "32  True value:  15  Predicted value:  15\n",
            "33  True value:  0  Predicted value:  0\n",
            "34  True value:  17  Predicted value:  17\n",
            "35  True value:  7  Predicted value:  7\n",
            "36  True value:  14  Predicted value:  14\n",
            "37  True value:  14  Predicted value:  14\n",
            "38  True value:  3  Predicted value:  3\n",
            "39  True value:  1  Predicted value:  1\n",
            "40  True value:  6  Predicted value:  6\n",
            "41  True value:  15  Predicted value:  15\n",
            "42  True value:  18  Predicted value:  18\n",
            "43  True value:  19  Predicted value:  19\n",
            "44  True value:  14  Predicted value:  14\n",
            "45  True value:  17  Predicted value:  17\n",
            "46  True value:  11  Predicted value:  11\n",
            "47  True value:  9  Predicted value:  9\n",
            "48  True value:  10  Predicted value:  10\n",
            "49  True value:  4  Predicted value:  4\n",
            "50  True value:  11  Predicted value:  11\n",
            "51  True value:  7  Predicted value:  7\n",
            "52  True value:  15  Predicted value:  15\n",
            "53  True value:  8  Predicted value:  8\n",
            "54  True value:  3  Predicted value:  3\n",
            "55  True value:  12  Predicted value:  12\n",
            "56  True value:  10  Predicted value:  10\n",
            "57  True value:  15  Predicted value:  15\n",
            "58 \u001b[2;37;41m True value:  5  Predicted value:  9 \u001b[0;0m\n",
            "59  True value:  19  Predicted value:  19\n",
            "60  True value:  4  Predicted value:  4\n",
            "61  True value:  13  Predicted value:  13\n",
            "62  True value:  3  Predicted value:  3\n",
            "63  True value:  16  Predicted value:  16\n",
            "64  True value:  11  Predicted value:  11\n",
            "65 \u001b[2;37;41m True value:  19  Predicted value:  14 \u001b[0;0m\n",
            "66  True value:  10  Predicted value:  10\n",
            "67  True value:  12  Predicted value:  12\n",
            "68 \u001b[2;37;41m True value:  14  Predicted value:  20 \u001b[0;0m\n",
            "69  True value:  9  Predicted value:  9\n",
            "70  True value:  10  Predicted value:  10\n",
            "71  True value:  8  Predicted value:  8\n",
            "72  True value:  5  Predicted value:  5\n",
            "73  True value:  3  Predicted value:  3\n",
            "74  True value:  11  Predicted value:  11\n",
            "75  True value:  4  Predicted value:  4\n",
            "76  True value:  18  Predicted value:  18\n",
            "77  True value:  18  Predicted value:  18\n",
            "78  True value:  12  Predicted value:  12\n",
            "79  True value:  15  Predicted value:  15\n",
            "80  True value:  14  Predicted value:  14\n",
            "81  True value:  4  Predicted value:  4\n",
            "82  True value:  10  Predicted value:  10\n",
            "83  True value:  3  Predicted value:  3\n",
            "84 \u001b[2;37;41m True value:  13  Predicted value:  11 \u001b[0;0m\n",
            "85  True value:  11  Predicted value:  11\n",
            "86  True value:  2  Predicted value:  2\n",
            "87 \u001b[2;37;41m True value:  18  Predicted value:  16 \u001b[0;0m\n",
            "88  True value:  1  Predicted value:  1\n",
            "89  True value:  3  Predicted value:  3\n",
            "90  True value:  11  Predicted value:  11\n",
            "91  True value:  6  Predicted value:  6\n",
            "92  True value:  16  Predicted value:  16\n",
            "93  True value:  18  Predicted value:  18\n",
            "94  True value:  3  Predicted value:  3\n",
            "95  True value:  19  Predicted value:  19\n",
            "96  True value:  9  Predicted value:  9\n",
            "97  True value:  10  Predicted value:  10\n",
            "98  True value:  1  Predicted value:  1\n",
            "99  True value:  7  Predicted value:  7\n",
            "100  True value:  7  Predicted value:  7\n",
            "101  True value:  13  Predicted value:  13\n",
            "102 \u001b[2;37;41m True value:  16  Predicted value:  8 \u001b[0;0m\n",
            "103  True value:  17  Predicted value:  17\n",
            "104  True value:  16  Predicted value:  16\n",
            "105  True value:  10  Predicted value:  10\n",
            "106  True value:  3  Predicted value:  3\n",
            "107 \u001b[2;37;41m True value:  5  Predicted value:  2 \u001b[0;0m\n",
            "108  True value:  14  Predicted value:  14\n",
            "109  True value:  6  Predicted value:  6\n",
            "110  True value:  7  Predicted value:  7\n",
            "111  True value:  15  Predicted value:  15\n",
            "112  True value:  9  Predicted value:  9\n",
            "113 \u001b[2;37;41m True value:  16  Predicted value:  11 \u001b[0;0m\n",
            "114  True value:  15  Predicted value:  15\n",
            "115  True value:  5  Predicted value:  5\n",
            "116  True value:  0  Predicted value:  0\n",
            "117  True value:  11  Predicted value:  11\n",
            "118  True value:  16  Predicted value:  16\n",
            "119  True value:  11  Predicted value:  11\n",
            "120  True value:  14  Predicted value:  14\n",
            "121  True value:  1  Predicted value:  1\n",
            "122  True value:  10  Predicted value:  10\n",
            "123  True value:  3  Predicted value:  3\n",
            "124  True value:  13  Predicted value:  13\n",
            "125  True value:  2  Predicted value:  2\n",
            "126  True value:  11  Predicted value:  11\n",
            "127  True value:  18  Predicted value:  18\n",
            "128  True value:  6  Predicted value:  6\n",
            "129  True value:  16  Predicted value:  16\n",
            "130  True value:  4  Predicted value:  4\n",
            "131  True value:  12  Predicted value:  12\n",
            "132  True value:  10  Predicted value:  10\n",
            "133  True value:  4  Predicted value:  4\n",
            "134  True value:  11  Predicted value:  11\n",
            "135  True value:  12  Predicted value:  12\n",
            "136  True value:  3  Predicted value:  3\n",
            "137  True value:  17  Predicted value:  17\n",
            "138 \u001b[2;37;41m True value:  8  Predicted value:  2 \u001b[0;0m\n",
            "139  True value:  9  Predicted value:  9\n",
            "140  True value:  6  Predicted value:  6\n",
            "141  True value:  18  Predicted value:  18\n",
            "142  True value:  2  Predicted value:  2\n",
            "143  True value:  16  Predicted value:  16\n",
            "144  True value:  17  Predicted value:  17\n",
            "145  True value:  12  Predicted value:  12\n",
            "146  True value:  19  Predicted value:  19\n",
            "147  True value:  4  Predicted value:  4\n",
            "148  True value:  2  Predicted value:  2\n",
            "149  True value:  16  Predicted value:  16\n",
            "150  True value:  12  Predicted value:  12\n",
            "151  True value:  3  Predicted value:  3\n",
            "152  True value:  18  Predicted value:  18\n",
            "153  True value:  19  Predicted value:  19\n",
            "154  True value:  7  Predicted value:  7\n",
            "155  True value:  15  Predicted value:  15\n",
            "156  True value:  10  Predicted value:  10\n",
            "157  True value:  11  Predicted value:  11\n",
            "158  True value:  2  Predicted value:  2\n",
            "159  True value:  13  Predicted value:  13\n",
            "160  True value:  4  Predicted value:  4\n",
            "161  True value:  18  Predicted value:  18\n",
            "162  True value:  16  Predicted value:  16\n",
            "163  True value:  15  Predicted value:  15\n",
            "164  True value:  10  Predicted value:  10\n",
            "165  True value:  16  Predicted value:  16\n",
            "166  True value:  2  Predicted value:  2\n",
            "167  True value:  6  Predicted value:  6\n",
            "168  True value:  4  Predicted value:  4\n",
            "169  True value:  19  Predicted value:  19\n",
            "170  True value:  7  Predicted value:  7\n",
            "171  True value:  13  Predicted value:  13\n",
            "172  True value:  4  Predicted value:  4\n",
            "173  True value:  1  Predicted value:  1\n",
            "174  True value:  17  Predicted value:  17\n",
            "175  True value:  5  Predicted value:  5\n",
            "176  True value:  7  Predicted value:  7\n",
            "177  True value:  10  Predicted value:  10\n",
            "178 \u001b[2;37;41m True value:  17  Predicted value:  12 \u001b[0;0m\n",
            "179 \u001b[2;37;41m True value:  19  Predicted value:  13 \u001b[0;0m\n",
            "180  True value:  15  Predicted value:  15\n",
            "181  True value:  3  Predicted value:  3\n",
            "182  True value:  16  Predicted value:  16\n",
            "183  True value:  6  Predicted value:  6\n",
            "184  True value:  13  Predicted value:  13\n",
            "185  True value:  7  Predicted value:  7\n",
            "186  True value:  10  Predicted value:  10\n",
            "187  True value:  4  Predicted value:  4\n",
            "188  True value:  14  Predicted value:  14\n",
            "189  True value:  13  Predicted value:  13\n",
            "190  True value:  12  Predicted value:  12\n",
            "191  True value:  12  Predicted value:  12\n",
            "192  True value:  4  Predicted value:  4\n",
            "193 \u001b[2;37;41m True value:  17  Predicted value:  9 \u001b[0;0m\n",
            "194  True value:  19  Predicted value:  19\n",
            "195  True value:  10  Predicted value:  10\n",
            "196  True value:  13  Predicted value:  13\n",
            "197  True value:  6  Predicted value:  6\n",
            "198  True value:  18  Predicted value:  18\n",
            "199  True value:  18  Predicted value:  18\n",
            "200  True value:  11  Predicted value:  11\n",
            "201  True value:  10  Predicted value:  10\n",
            "202  True value:  13  Predicted value:  13\n",
            "203  True value:  14  Predicted value:  14\n",
            "204  True value:  7  Predicted value:  7\n",
            "205  True value:  15  Predicted value:  15\n",
            "206  True value:  9  Predicted value:  9\n",
            "207  True value:  7  Predicted value:  7\n",
            "208  True value:  8  Predicted value:  8\n",
            "209  True value:  1  Predicted value:  1\n",
            "210  True value:  19  Predicted value:  19\n",
            "211  True value:  4  Predicted value:  4\n",
            "212  True value:  2  Predicted value:  2\n",
            "213  True value:  13  Predicted value:  13\n",
            "214  True value:  11  Predicted value:  11\n",
            "215  True value:  18  Predicted value:  18\n",
            "216  True value:  14  Predicted value:  14\n",
            "217  True value:  1  Predicted value:  1\n",
            "218  True value:  8  Predicted value:  8\n",
            "219 \u001b[2;37;41m True value:  14  Predicted value:  9 \u001b[0;0m\n",
            "220  True value:  2  Predicted value:  2\n",
            "221  True value:  3  Predicted value:  3\n",
            "222  True value:  10  Predicted value:  10\n",
            "223  True value:  8  Predicted value:  8\n",
            "224 \u001b[2;37;41m True value:  16  Predicted value:  17 \u001b[0;0m\n",
            "225  True value:  19  Predicted value:  19\n",
            "226 \u001b[2;37;41m True value:  19  Predicted value:  21 \u001b[0;0m\n",
            "227  True value:  14  Predicted value:  14\n",
            "228  True value:  14  Predicted value:  14\n",
            "229  True value:  4  Predicted value:  4\n",
            "230  True value:  4  Predicted value:  4\n",
            "231  True value:  1  Predicted value:  1\n",
            "232  True value:  9  Predicted value:  9\n",
            "233  True value:  8  Predicted value:  8\n",
            "234  True value:  8  Predicted value:  8\n",
            "235  True value:  1  Predicted value:  1\n",
            "236  True value:  16  Predicted value:  16\n",
            "237  True value:  1  Predicted value:  1\n",
            "238  True value:  12  Predicted value:  12\n",
            "239 \u001b[2;37;41m True value:  10  Predicted value:  11 \u001b[0;0m\n",
            "240  True value:  8  Predicted value:  8\n",
            "241  True value:  6  Predicted value:  6\n",
            "242  True value:  17  Predicted value:  17\n",
            "243  True value:  5  Predicted value:  5\n",
            "244 \u001b[2;37;41m True value:  13  Predicted value:  8 \u001b[0;0m\n",
            "245  True value:  17  Predicted value:  17\n",
            "246  True value:  4  Predicted value:  4\n",
            "247  True value:  11  Predicted value:  11\n",
            "248  True value:  6  Predicted value:  6\n",
            "249 \u001b[2;37;41m True value:  4  Predicted value:  9 \u001b[0;0m\n",
            "250  True value:  16  Predicted value:  16\n",
            "251  True value:  1  Predicted value:  1\n",
            "252  True value:  8  Predicted value:  8\n",
            "253  True value:  13  Predicted value:  13\n",
            "254  True value:  17  Predicted value:  17\n",
            "255  True value:  13  Predicted value:  13\n",
            "256  True value:  0  Predicted value:  0\n",
            "257  True value:  5  Predicted value:  5\n",
            "258  True value:  19  Predicted value:  19\n",
            "259  True value:  8  Predicted value:  8\n",
            "260  True value:  14  Predicted value:  14\n",
            "261  True value:  18  Predicted value:  18\n",
            "262  True value:  10  Predicted value:  10\n",
            "263  True value:  8  Predicted value:  8\n",
            "264 \u001b[2;37;41m True value:  12  Predicted value:  10 \u001b[0;0m\n",
            "265  True value:  12  Predicted value:  12\n",
            "266 \u001b[2;37;41m True value:  18  Predicted value:  15 \u001b[0;0m\n",
            "267  True value:  3  Predicted value:  3\n",
            "268  True value:  5  Predicted value:  5\n",
            "269  True value:  19  Predicted value:  19\n",
            "270 \u001b[2;37;41m True value:  14  Predicted value:  19 \u001b[0;0m\n",
            "271  True value:  13  Predicted value:  13\n",
            "272  True value:  14  Predicted value:  14\n",
            "273  True value:  6  Predicted value:  6\n",
            "274  True value:  1  Predicted value:  1\n",
            "275  True value:  19  Predicted value:  19\n",
            "276  True value:  8  Predicted value:  8\n",
            "277  True value:  9  Predicted value:  9\n",
            "278  True value:  1  Predicted value:  1\n",
            "279  True value:  13  Predicted value:  13\n",
            "280  True value:  9  Predicted value:  9\n",
            "281  True value:  7  Predicted value:  7\n",
            "282  True value:  7  Predicted value:  7\n",
            "283  True value:  1  Predicted value:  1\n",
            "284  True value:  5  Predicted value:  5\n",
            "285  True value:  15  Predicted value:  15\n",
            "286  True value:  1  Predicted value:  1\n",
            "287  True value:  8  Predicted value:  8\n",
            "288 \u001b[2;37;41m True value:  1  Predicted value:  6 \u001b[0;0m\n",
            "289  True value:  10  Predicted value:  10\n",
            "290 \u001b[2;37;41m True value:  17  Predicted value:  12 \u001b[0;0m\n",
            "291  True value:  18  Predicted value:  18\n",
            "292 \u001b[2;37;41m True value:  16  Predicted value:  8 \u001b[0;0m\n",
            "293  True value:  7  Predicted value:  7\n",
            "294  True value:  3  Predicted value:  3\n",
            "295 \u001b[2;37;41m True value:  13  Predicted value:  6 \u001b[0;0m\n",
            "296  True value:  16  Predicted value:  16\n",
            "297  True value:  10  Predicted value:  10\n",
            "298  True value:  6  Predicted value:  6\n",
            "299  True value:  13  Predicted value:  13\n",
            "300  True value:  15  Predicted value:  15\n",
            "301  True value:  3  Predicted value:  3\n",
            "302  True value:  11  Predicted value:  11\n",
            "303 \u001b[2;37;41m True value:  4  Predicted value:  2 \u001b[0;0m\n",
            "304  True value:  10  Predicted value:  10\n",
            "305  True value:  12  Predicted value:  12\n",
            "306 \u001b[2;37;41m True value:  7  Predicted value:  9 \u001b[0;0m\n",
            "307  True value:  12  Predicted value:  12\n",
            "308  True value:  14  Predicted value:  14\n",
            "309  True value:  14  Predicted value:  14\n",
            "310  True value:  10  Predicted value:  10\n",
            "311 \u001b[2;37;41m True value:  9  Predicted value:  7 \u001b[0;0m\n",
            "312  True value:  2  Predicted value:  2\n",
            "313  True value:  5  Predicted value:  5\n",
            "314  True value:  7  Predicted value:  7\n",
            "315  True value:  5  Predicted value:  5\n",
            "316  True value:  10  Predicted value:  10\n",
            "317  True value:  2  Predicted value:  2\n",
            "318  True value:  8  Predicted value:  8\n",
            "319  True value:  12  Predicted value:  12\n",
            "320  True value:  4  Predicted value:  4\n",
            "321  True value:  6  Predicted value:  6\n",
            "322  True value:  1  Predicted value:  1\n",
            "323  True value:  12  Predicted value:  12\n",
            "324  True value:  17  Predicted value:  17\n",
            "325  True value:  4  Predicted value:  4\n",
            "326  True value:  11  Predicted value:  11\n",
            "327 \u001b[2;37;41m True value:  11  Predicted value:  5 \u001b[0;0m\n",
            "328 \u001b[2;37;41m True value:  19  Predicted value:  24 \u001b[0;0m\n",
            "329  True value:  11  Predicted value:  11\n",
            "330  True value:  19  Predicted value:  19\n",
            "331  True value:  7  Predicted value:  7\n",
            "332  True value:  10  Predicted value:  10\n",
            "333  True value:  0  Predicted value:  0\n",
            "334  True value:  3  Predicted value:  3\n",
            "335  True value:  8  Predicted value:  8\n",
            "336 \u001b[2;37;41m True value:  9  Predicted value:  12 \u001b[0;0m\n",
            "337  True value:  13  Predicted value:  13\n",
            "338  True value:  15  Predicted value:  15\n",
            "339  True value:  19  Predicted value:  19\n",
            "340  True value:  2  Predicted value:  2\n",
            "341  True value:  17  Predicted value:  17\n",
            "342  True value:  0  Predicted value:  0\n",
            "343  True value:  17  Predicted value:  17\n",
            "344 \u001b[2;37;41m True value:  19  Predicted value:  10 \u001b[0;0m\n",
            "345  True value:  15  Predicted value:  15\n",
            "346  True value:  17  Predicted value:  17\n",
            "347  True value:  13  Predicted value:  13\n",
            "348  True value:  4  Predicted value:  4\n",
            "349  True value:  9  Predicted value:  9\n",
            "350  True value:  12  Predicted value:  12\n",
            "351  True value:  5  Predicted value:  5\n",
            "352  True value:  16  Predicted value:  16\n",
            "353  True value:  5  Predicted value:  5\n",
            "354  True value:  18  Predicted value:  18\n",
            "355  True value:  3  Predicted value:  3\n",
            "356  True value:  15  Predicted value:  15\n",
            "357  True value:  4  Predicted value:  4\n",
            "358  True value:  17  Predicted value:  17\n",
            "359  True value:  15  Predicted value:  15\n",
            "360  True value:  15  Predicted value:  15\n",
            "361  True value:  12  Predicted value:  12\n",
            "362  True value:  12  Predicted value:  12\n",
            "363  True value:  7  Predicted value:  7\n",
            "364  True value:  10  Predicted value:  10\n",
            "365  True value:  14  Predicted value:  14\n",
            "366  True value:  13  Predicted value:  13\n",
            "367  True value:  12  Predicted value:  12\n",
            "368  True value:  17  Predicted value:  17\n",
            "369  True value:  0  Predicted value:  0\n",
            "370  True value:  3  Predicted value:  3\n",
            "371 \u001b[2;37;41m True value:  13  Predicted value:  6 \u001b[0;0m\n",
            "372  True value:  16  Predicted value:  16\n",
            "373  True value:  7  Predicted value:  7\n",
            "374  True value:  10  Predicted value:  10\n",
            "375  True value:  12  Predicted value:  12\n",
            "376  True value:  13  Predicted value:  13\n",
            "377  True value:  3  Predicted value:  3\n",
            "378  True value:  11  Predicted value:  11\n",
            "379  True value:  12  Predicted value:  12\n",
            "380  True value:  16  Predicted value:  16\n",
            "381  True value:  9  Predicted value:  9\n",
            "382  True value:  7  Predicted value:  7\n",
            "383  True value:  8  Predicted value:  8\n",
            "384  True value:  5  Predicted value:  5\n",
            "385  True value:  1  Predicted value:  1\n",
            "386  True value:  14  Predicted value:  14\n",
            "387  True value:  14  Predicted value:  14\n",
            "388  True value:  9  Predicted value:  9\n",
            "389  True value:  8  Predicted value:  8\n",
            "390  True value:  16  Predicted value:  16\n",
            "391 \u001b[2;37;41m True value:  7  Predicted value:  13 \u001b[0;0m\n",
            "392  True value:  18  Predicted value:  18\n",
            "393  True value:  1  Predicted value:  1\n",
            "394  True value:  8  Predicted value:  8\n",
            "395  True value:  8  Predicted value:  8\n",
            "396  True value:  1  Predicted value:  1\n",
            "397  True value:  7  Predicted value:  7\n",
            "398  True value:  17  Predicted value:  17\n",
            "399  True value:  10  Predicted value:  10\n"
          ]
        }
      ]
    }
  ]
}
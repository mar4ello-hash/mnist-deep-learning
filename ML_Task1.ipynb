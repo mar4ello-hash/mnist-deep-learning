{
  "nbformat": 4,
  "nbformat_minor": 0,
  "metadata": {
    "colab": {
      "name": "ML_Task1.ipynb",
      "provenance": [],
      "collapsed_sections": [
        "0-P2XanhEuYX"
      ],
      "authorship_tag": "ABX9TyNW8heyDMXYqYmWogrADLuz",
      "include_colab_link": true
    },
    "kernelspec": {
      "name": "python3",
      "display_name": "Python 3"
    },
    "language_info": {
      "name": "python"
    },
    "accelerator": "GPU"
  },
  "cells": [
    {
      "cell_type": "markdown",
      "metadata": {
        "id": "view-in-github",
        "colab_type": "text"
      },
      "source": [
        "<a href=\"https://colab.research.google.com/github/mar4ello-hash/mnist-deep-learning/blob/main/ML_Task1.ipynb\" target=\"_parent\"><img src=\"https://colab.research.google.com/assets/colab-badge.svg\" alt=\"Open In Colab\"/></a>"
      ]
    },
    {
      "cell_type": "markdown",
      "metadata": {
        "id": "YHzc3kMtSouJ"
      },
      "source": [
        "## ***Task 1: Train an MNIST Deep Learning network to recognise the digits 0 to 9 from MNIST***"
      ]
    },
    {
      "cell_type": "code",
      "metadata": {
        "id": "pncnUa58SnAu",
        "colab": {
          "base_uri": "https://localhost:8080/"
        },
        "outputId": "24e03942-8e68-4d6b-fd4e-be00e4199356"
      },
      "source": [
        "import numpy as np\n",
        "import tensorflow as tf\n",
        "from matplotlib import pyplot as plt\n",
        "from sklearn.model_selection import train_test_split\n",
        "\n",
        "from google.colab import drive\n",
        "drive.mount('/content/drive')"
      ],
      "execution_count": null,
      "outputs": [
        {
          "output_type": "stream",
          "name": "stdout",
          "text": [
            "Mounted at /content/drive\n"
          ]
        }
      ]
    },
    {
      "cell_type": "markdown",
      "source": [
        "### ***Data preprocessing***"
      ],
      "metadata": {
        "id": "pPFrryX_Cgof"
      }
    },
    {
      "cell_type": "code",
      "metadata": {
        "id": "pCH-QADkTV1K",
        "colab": {
          "base_uri": "https://localhost:8080/",
          "height": 704
        },
        "outputId": "ee3ef5cf-d572-4a43-d35c-afeafdedd0cc"
      },
      "source": [
        "# AddNIST dataset\n",
        "test_X = np.load(\"/content/drive/My Drive/Colab Notebooks/Machine_Learning_Coursework/test_x.npy\", allow_pickle=True)\n",
        "test_y = np.load(\"/content/drive/My Drive/Colab Notebooks/Machine_Learning_Coursework/test_y.npy\", allow_pickle=True)\n",
        "\n",
        "# MNIST dataset\n",
        "mnist = tf.keras.datasets.mnist\n",
        "(mnist_train_X, mnist_train_y), (mnist_test_X, mnist_test_y) = mnist.load_data()\n",
        "\n",
        "# Splitting mnist_train data into train and valid \n",
        "mnist_train_X, mnist_valid_X, mnist_train_y, mnist_valid_y = train_test_split(mnist_train_X, mnist_train_y, train_size=5/6)\n",
        "\n",
        "print('MNIST Train: ', (mnist_train_X.shape))\n",
        "print('MNIST Test: ', (mnist_test_X.shape))\n",
        "print('MNIST Valid: ', (mnist_valid_X.shape))\n",
        "\n",
        "print('AddNIST Test: ', (test_X.shape))\n",
        "\n",
        "# Image before data normalization\n",
        "print('\\nSample before normalization:')\n",
        "plt.imshow(mnist_train_X[0], cmap=plt.get_cmap('gray'))\n",
        "plt.show()\n",
        "# print(train_X[0])\n",
        "\n",
        "# Data normalization for better training\n",
        "mnist_train_X = tf.keras.utils.normalize(mnist_train_X, axis=1)\n",
        "mnist_test_X = tf.keras.utils.normalize(mnist_test_X, axis=1)\n",
        "mnsit_valid_X = tf.keras.utils.normalize(mnist_valid_X, axis=1)\n",
        "\n",
        "# Image after data normalization\n",
        "print('\\nSample after normalization:')\n",
        "plt.imshow(mnist_train_X[0], cmap=plt.get_cmap('gray'))\n",
        "plt.show()\n",
        "# print(train_X[0])"
      ],
      "execution_count": null,
      "outputs": [
        {
          "output_type": "stream",
          "name": "stdout",
          "text": [
            "Downloading data from https://storage.googleapis.com/tensorflow/tf-keras-datasets/mnist.npz\n",
            "11493376/11490434 [==============================] - 0s 0us/step\n",
            "11501568/11490434 [==============================] - 0s 0us/step\n",
            "MNIST Train:  (50000, 28, 28)\n",
            "MNIST Test:  (10000, 28, 28)\n",
            "MNIST Valid:  (10000, 28, 28)\n",
            "AddNIST Test:  (10000, 3, 28, 28)\n",
            "\n",
            "Sample before normalization:\n"
          ]
        },
        {
          "output_type": "display_data",
          "data": {
            "image/png": "[encoded data removed]",
            "text/plain": [
              "<Figure size 432x288 with 1 Axes>"
            ]
          },
          "metadata": {
            "needs_background": "light"
          }
        },
        {
          "output_type": "stream",
          "name": "stdout",
          "text": [
            "\n",
            "Sample after normalization:\n"
          ]
        },
        {
          "output_type": "display_data",
          "data": {
            "image/png": "[encoded data removed]",
            "text/plain": [
              "<Figure size 432x288 with 1 Axes>"
            ]
          },
          "metadata": {
            "needs_background": "light"
          }
        }
      ]
    },
    {
      "cell_type": "markdown",
      "source": [
        "### ***Model building***"
      ],
      "metadata": {
        "id": "N0vfaY1M__sf"
      }
    },
    {
      "cell_type": "code",
      "metadata": {
        "id": "dW5Z-k0Fe3gh"
      },
      "source": [
        "def build_model(x, y):\n",
        "\n",
        "    model = tf.keras.models.Sequential()\n",
        "    model.add(tf.keras.layers.Flatten())\n",
        "\n",
        "    model.add(tf.keras.layers.Dense(256, activation='relu'))\n",
        "\n",
        "    model.add(tf.keras.layers.Dense(128, activation='relu'))\n",
        "    model.add(tf.keras.layers.Dense(128, activation='relu'))\n",
        "\n",
        "    model.add(tf.keras.layers.Dense(100, activation='relu'))\n",
        "    model.add(tf.keras.layers.Dense(10, activation='softmax'))\n",
        "\n",
        "    model.compile(optimizer='adam',\n",
        "                  loss='sparse_categorical_crossentropy',\n",
        "                  metrics=['accuracy'])\n",
        "\n",
        "    history = model.fit(x, y, epochs=20, batch_size=64, validation_data=(mnist_valid_X, mnist_valid_y))\n",
        "\n",
        "    return model, history"
      ],
      "execution_count": null,
      "outputs": []
    },
    {
      "cell_type": "markdown",
      "source": [
        "### ***MNIST model overview***"
      ],
      "metadata": {
        "id": "mx-pFthBD0yl"
      }
    },
    {
      "cell_type": "code",
      "source": [
        "mnist_model, history = build_model(mnist_train_X, mnist_train_y)\n",
        "\n",
        "# Model summary\n",
        "mnist_model.summary()\n",
        "mnist_model.save('mnist_DL.model')"
      ],
      "metadata": {
        "id": "0P8qMxqIDzgv",
        "colab": {
          "base_uri": "https://localhost:8080/",
          "height": 484
        },
        "outputId": "f2421405-b6c5-47c1-9af0-ab1ace389dc8"
      },
      "execution_count": null,
      "outputs": [
        {
          "output_type": "stream",
          "name": "stdout",
          "text": [
            "Epoch 1/20\n",
            "782/782 [==============================] - 5s 4ms/step - loss: 0.2927 - accuracy: 0.9124 - val_loss: 100.5325 - val_accuracy: 0.9221\n",
            "Epoch 2/20\n",
            "782/782 [==============================] - 3s 4ms/step - loss: 0.1124 - accuracy: 0.9650 - val_loss: 74.0472 - val_accuracy: 0.9483\n",
            "Epoch 3/20\n",
            "676/782 [========================>.....] - ETA: 0s - loss: 0.0753 - accuracy: 0.9758"
          ]
        },
        {
          "output_type": "error",
          "ename": "KeyboardInterrupt",
          "evalue": "ignored",
          "traceback": [
            "\u001b[0;31m---------------------------------------------------------------------------\u001b[0m",
            "\u001b[0;31mKeyboardInterrupt\u001b[0m                         Traceback (most recent call last)",
            "\u001b[0;32m<ipython-input-4-0d947bd08214>\u001b[0m in \u001b[0;36m<module>\u001b[0;34m()\u001b[0m\n\u001b[0;32m----> 1\u001b[0;31m \u001b[0mmnist_model\u001b[0m\u001b[0;34m,\u001b[0m \u001b[0mhistory\u001b[0m \u001b[0;34m=\u001b[0m \u001b[0mbuild_model\u001b[0m\u001b[0;34m(\u001b[0m\u001b[0mmnist_train_X\u001b[0m\u001b[0;34m,\u001b[0m \u001b[0mmnist_train_y\u001b[0m\u001b[0;34m)\u001b[0m\u001b[0;34m\u001b[0m\u001b[0;34m\u001b[0m\u001b[0m\n\u001b[0m\u001b[1;32m      2\u001b[0m \u001b[0;34m\u001b[0m\u001b[0m\n\u001b[1;32m      3\u001b[0m \u001b[0;31m# Model summary\u001b[0m\u001b[0;34m\u001b[0m\u001b[0;34m\u001b[0m\u001b[0;34m\u001b[0m\u001b[0m\n\u001b[1;32m      4\u001b[0m \u001b[0mmnist_model\u001b[0m\u001b[0;34m.\u001b[0m\u001b[0msummary\u001b[0m\u001b[0;34m(\u001b[0m\u001b[0;34m)\u001b[0m\u001b[0;34m\u001b[0m\u001b[0;34m\u001b[0m\u001b[0m\n\u001b[1;32m      5\u001b[0m \u001b[0mmnist_model\u001b[0m\u001b[0;34m.\u001b[0m\u001b[0msave\u001b[0m\u001b[0;34m(\u001b[0m\u001b[0;34m'mnist_DL.model'\u001b[0m\u001b[0;34m)\u001b[0m\u001b[0;34m\u001b[0m\u001b[0;34m\u001b[0m\u001b[0m\n",
            "\u001b[0;32m<ipython-input-3-44a9075e7218>\u001b[0m in \u001b[0;36mbuild_model\u001b[0;34m(x, y)\u001b[0m\n\u001b[1;32m     16\u001b[0m                   metrics=['accuracy'])\n\u001b[1;32m     17\u001b[0m \u001b[0;34m\u001b[0m\u001b[0m\n\u001b[0;32m---> 18\u001b[0;31m     \u001b[0mhistory\u001b[0m \u001b[0;34m=\u001b[0m \u001b[0mmodel\u001b[0m\u001b[0;34m.\u001b[0m\u001b[0mfit\u001b[0m\u001b[0;34m(\u001b[0m\u001b[0mx\u001b[0m\u001b[0;34m,\u001b[0m \u001b[0my\u001b[0m\u001b[0;34m,\u001b[0m \u001b[0mepochs\u001b[0m\u001b[0;34m=\u001b[0m\u001b[0;36m20\u001b[0m\u001b[0;34m,\u001b[0m \u001b[0mbatch_size\u001b[0m\u001b[0;34m=\u001b[0m\u001b[0;36m64\u001b[0m\u001b[0;34m,\u001b[0m \u001b[0mvalidation_data\u001b[0m\u001b[0;34m=\u001b[0m\u001b[0;34m(\u001b[0m\u001b[0mmnist_valid_X\u001b[0m\u001b[0;34m,\u001b[0m \u001b[0mmnist_valid_y\u001b[0m\u001b[0;34m)\u001b[0m\u001b[0;34m)\u001b[0m\u001b[0;34m\u001b[0m\u001b[0;34m\u001b[0m\u001b[0m\n\u001b[0m\u001b[1;32m     19\u001b[0m \u001b[0;34m\u001b[0m\u001b[0m\n\u001b[1;32m     20\u001b[0m     \u001b[0;32mreturn\u001b[0m \u001b[0mmodel\u001b[0m\u001b[0;34m,\u001b[0m \u001b[0mhistory\u001b[0m\u001b[0;34m\u001b[0m\u001b[0;34m\u001b[0m\u001b[0m\n",
            "\u001b[0;32m/usr/local/lib/python3.7/dist-packages/keras/utils/traceback_utils.py\u001b[0m in \u001b[0;36merror_handler\u001b[0;34m(*args, **kwargs)\u001b[0m\n\u001b[1;32m     62\u001b[0m     \u001b[0mfiltered_tb\u001b[0m \u001b[0;34m=\u001b[0m \u001b[0;32mNone\u001b[0m\u001b[0;34m\u001b[0m\u001b[0;34m\u001b[0m\u001b[0m\n\u001b[1;32m     63\u001b[0m     \u001b[0;32mtry\u001b[0m\u001b[0;34m:\u001b[0m\u001b[0;34m\u001b[0m\u001b[0;34m\u001b[0m\u001b[0m\n\u001b[0;32m---> 64\u001b[0;31m       \u001b[0;32mreturn\u001b[0m \u001b[0mfn\u001b[0m\u001b[0;34m(\u001b[0m\u001b[0;34m*\u001b[0m\u001b[0margs\u001b[0m\u001b[0;34m,\u001b[0m \u001b[0;34m**\u001b[0m\u001b[0mkwargs\u001b[0m\u001b[0;34m)\u001b[0m\u001b[0;34m\u001b[0m\u001b[0;34m\u001b[0m\u001b[0m\n\u001b[0m\u001b[1;32m     65\u001b[0m     \u001b[0;32mexcept\u001b[0m \u001b[0mException\u001b[0m \u001b[0;32mas\u001b[0m \u001b[0me\u001b[0m\u001b[0;34m:\u001b[0m  \u001b[0;31m# pylint: disable=broad-except\u001b[0m\u001b[0;34m\u001b[0m\u001b[0;34m\u001b[0m\u001b[0m\n\u001b[1;32m     66\u001b[0m       \u001b[0mfiltered_tb\u001b[0m \u001b[0;34m=\u001b[0m \u001b[0m_process_traceback_frames\u001b[0m\u001b[0;34m(\u001b[0m\u001b[0me\u001b[0m\u001b[0;34m.\u001b[0m\u001b[0m__traceback__\u001b[0m\u001b[0;34m)\u001b[0m\u001b[0;34m\u001b[0m\u001b[0;34m\u001b[0m\u001b[0m\n",
            "\u001b[0;32m/usr/local/lib/python3.7/dist-packages/keras/engine/training.py\u001b[0m in \u001b[0;36mfit\u001b[0;34m(self, x, y, batch_size, epochs, verbose, callbacks, validation_split, validation_data, shuffle, class_weight, sample_weight, initial_epoch, steps_per_epoch, validation_steps, validation_batch_size, validation_freq, max_queue_size, workers, use_multiprocessing)\u001b[0m\n\u001b[1;32m   1214\u001b[0m                 _r=1):\n\u001b[1;32m   1215\u001b[0m               \u001b[0mcallbacks\u001b[0m\u001b[0;34m.\u001b[0m\u001b[0mon_train_batch_begin\u001b[0m\u001b[0;34m(\u001b[0m\u001b[0mstep\u001b[0m\u001b[0;34m)\u001b[0m\u001b[0;34m\u001b[0m\u001b[0;34m\u001b[0m\u001b[0m\n\u001b[0;32m-> 1216\u001b[0;31m               \u001b[0mtmp_logs\u001b[0m \u001b[0;34m=\u001b[0m \u001b[0mself\u001b[0m\u001b[0;34m.\u001b[0m\u001b[0mtrain_function\u001b[0m\u001b[0;34m(\u001b[0m\u001b[0miterator\u001b[0m\u001b[0;34m)\u001b[0m\u001b[0;34m\u001b[0m\u001b[0;34m\u001b[0m\u001b[0m\n\u001b[0m\u001b[1;32m   1217\u001b[0m               \u001b[0;32mif\u001b[0m \u001b[0mdata_handler\u001b[0m\u001b[0;34m.\u001b[0m\u001b[0mshould_sync\u001b[0m\u001b[0;34m:\u001b[0m\u001b[0;34m\u001b[0m\u001b[0;34m\u001b[0m\u001b[0m\n\u001b[1;32m   1218\u001b[0m                 \u001b[0mcontext\u001b[0m\u001b[0;34m.\u001b[0m\u001b[0masync_wait\u001b[0m\u001b[0;34m(\u001b[0m\u001b[0;34m)\u001b[0m\u001b[0;34m\u001b[0m\u001b[0;34m\u001b[0m\u001b[0m\n",
            "\u001b[0;32m/usr/local/lib/python3.7/dist-packages/tensorflow/python/util/traceback_utils.py\u001b[0m in \u001b[0;36merror_handler\u001b[0;34m(*args, **kwargs)\u001b[0m\n\u001b[1;32m    148\u001b[0m     \u001b[0mfiltered_tb\u001b[0m \u001b[0;34m=\u001b[0m \u001b[0;32mNone\u001b[0m\u001b[0;34m\u001b[0m\u001b[0;34m\u001b[0m\u001b[0m\n\u001b[1;32m    149\u001b[0m     \u001b[0;32mtry\u001b[0m\u001b[0;34m:\u001b[0m\u001b[0;34m\u001b[0m\u001b[0;34m\u001b[0m\u001b[0m\n\u001b[0;32m--> 150\u001b[0;31m       \u001b[0;32mreturn\u001b[0m \u001b[0mfn\u001b[0m\u001b[0;34m(\u001b[0m\u001b[0;34m*\u001b[0m\u001b[0margs\u001b[0m\u001b[0;34m,\u001b[0m \u001b[0;34m**\u001b[0m\u001b[0mkwargs\u001b[0m\u001b[0;34m)\u001b[0m\u001b[0;34m\u001b[0m\u001b[0;34m\u001b[0m\u001b[0m\n\u001b[0m\u001b[1;32m    151\u001b[0m     \u001b[0;32mexcept\u001b[0m \u001b[0mException\u001b[0m \u001b[0;32mas\u001b[0m \u001b[0me\u001b[0m\u001b[0;34m:\u001b[0m\u001b[0;34m\u001b[0m\u001b[0;34m\u001b[0m\u001b[0m\n\u001b[1;32m    152\u001b[0m       \u001b[0mfiltered_tb\u001b[0m \u001b[0;34m=\u001b[0m \u001b[0m_process_traceback_frames\u001b[0m\u001b[0;34m(\u001b[0m\u001b[0me\u001b[0m\u001b[0;34m.\u001b[0m\u001b[0m__traceback__\u001b[0m\u001b[0;34m)\u001b[0m\u001b[0;34m\u001b[0m\u001b[0;34m\u001b[0m\u001b[0m\n",
            "\u001b[0;32m/usr/local/lib/python3.7/dist-packages/tensorflow/python/eager/def_function.py\u001b[0m in \u001b[0;36m__call__\u001b[0;34m(self, *args, **kwds)\u001b[0m\n\u001b[1;32m    908\u001b[0m \u001b[0;34m\u001b[0m\u001b[0m\n\u001b[1;32m    909\u001b[0m       \u001b[0;32mwith\u001b[0m \u001b[0mOptionalXlaContext\u001b[0m\u001b[0;34m(\u001b[0m\u001b[0mself\u001b[0m\u001b[0;34m.\u001b[0m\u001b[0m_jit_compile\u001b[0m\u001b[0;34m)\u001b[0m\u001b[0;34m:\u001b[0m\u001b[0;34m\u001b[0m\u001b[0;34m\u001b[0m\u001b[0m\n\u001b[0;32m--> 910\u001b[0;31m         \u001b[0mresult\u001b[0m \u001b[0;34m=\u001b[0m \u001b[0mself\u001b[0m\u001b[0;34m.\u001b[0m\u001b[0m_call\u001b[0m\u001b[0;34m(\u001b[0m\u001b[0;34m*\u001b[0m\u001b[0margs\u001b[0m\u001b[0;34m,\u001b[0m \u001b[0;34m**\u001b[0m\u001b[0mkwds\u001b[0m\u001b[0;34m)\u001b[0m\u001b[0;34m\u001b[0m\u001b[0;34m\u001b[0m\u001b[0m\n\u001b[0m\u001b[1;32m    911\u001b[0m \u001b[0;34m\u001b[0m\u001b[0m\n\u001b[1;32m    912\u001b[0m       \u001b[0mnew_tracing_count\u001b[0m \u001b[0;34m=\u001b[0m \u001b[0mself\u001b[0m\u001b[0;34m.\u001b[0m\u001b[0mexperimental_get_tracing_count\u001b[0m\u001b[0;34m(\u001b[0m\u001b[0;34m)\u001b[0m\u001b[0;34m\u001b[0m\u001b[0;34m\u001b[0m\u001b[0m\n",
            "\u001b[0;32m/usr/local/lib/python3.7/dist-packages/tensorflow/python/eager/def_function.py\u001b[0m in \u001b[0;36m_call\u001b[0;34m(self, *args, **kwds)\u001b[0m\n\u001b[1;32m    940\u001b[0m       \u001b[0;31m# In this case we have created variables on the first call, so we run the\u001b[0m\u001b[0;34m\u001b[0m\u001b[0;34m\u001b[0m\u001b[0;34m\u001b[0m\u001b[0m\n\u001b[1;32m    941\u001b[0m       \u001b[0;31m# defunned version which is guaranteed to never create variables.\u001b[0m\u001b[0;34m\u001b[0m\u001b[0;34m\u001b[0m\u001b[0;34m\u001b[0m\u001b[0m\n\u001b[0;32m--> 942\u001b[0;31m       \u001b[0;32mreturn\u001b[0m \u001b[0mself\u001b[0m\u001b[0;34m.\u001b[0m\u001b[0m_stateless_fn\u001b[0m\u001b[0;34m(\u001b[0m\u001b[0;34m*\u001b[0m\u001b[0margs\u001b[0m\u001b[0;34m,\u001b[0m \u001b[0;34m**\u001b[0m\u001b[0mkwds\u001b[0m\u001b[0;34m)\u001b[0m  \u001b[0;31m# pylint: disable=not-callable\u001b[0m\u001b[0;34m\u001b[0m\u001b[0;34m\u001b[0m\u001b[0m\n\u001b[0m\u001b[1;32m    943\u001b[0m     \u001b[0;32melif\u001b[0m \u001b[0mself\u001b[0m\u001b[0;34m.\u001b[0m\u001b[0m_stateful_fn\u001b[0m \u001b[0;32mis\u001b[0m \u001b[0;32mnot\u001b[0m \u001b[0;32mNone\u001b[0m\u001b[0;34m:\u001b[0m\u001b[0;34m\u001b[0m\u001b[0;34m\u001b[0m\u001b[0m\n\u001b[1;32m    944\u001b[0m       \u001b[0;31m# Release the lock early so that multiple threads can perform the call\u001b[0m\u001b[0;34m\u001b[0m\u001b[0;34m\u001b[0m\u001b[0;34m\u001b[0m\u001b[0m\n",
            "\u001b[0;32m/usr/local/lib/python3.7/dist-packages/tensorflow/python/eager/function.py\u001b[0m in \u001b[0;36m__call__\u001b[0;34m(self, *args, **kwargs)\u001b[0m\n\u001b[1;32m   3129\u001b[0m        filtered_flat_args) = self._maybe_define_function(args, kwargs)\n\u001b[1;32m   3130\u001b[0m     return graph_function._call_flat(\n\u001b[0;32m-> 3131\u001b[0;31m         filtered_flat_args, captured_inputs=graph_function.captured_inputs)  # pylint: disable=protected-access\n\u001b[0m\u001b[1;32m   3132\u001b[0m \u001b[0;34m\u001b[0m\u001b[0m\n\u001b[1;32m   3133\u001b[0m   \u001b[0;34m@\u001b[0m\u001b[0mproperty\u001b[0m\u001b[0;34m\u001b[0m\u001b[0;34m\u001b[0m\u001b[0m\n",
            "\u001b[0;32m/usr/local/lib/python3.7/dist-packages/tensorflow/python/eager/function.py\u001b[0m in \u001b[0;36m_call_flat\u001b[0;34m(self, args, captured_inputs, cancellation_manager)\u001b[0m\n\u001b[1;32m   1958\u001b[0m       \u001b[0;31m# No tape is watching; skip to running the function.\u001b[0m\u001b[0;34m\u001b[0m\u001b[0;34m\u001b[0m\u001b[0;34m\u001b[0m\u001b[0m\n\u001b[1;32m   1959\u001b[0m       return self._build_call_outputs(self._inference_function.call(\n\u001b[0;32m-> 1960\u001b[0;31m           ctx, args, cancellation_manager=cancellation_manager))\n\u001b[0m\u001b[1;32m   1961\u001b[0m     forward_backward = self._select_forward_and_backward_functions(\n\u001b[1;32m   1962\u001b[0m         \u001b[0margs\u001b[0m\u001b[0;34m,\u001b[0m\u001b[0;34m\u001b[0m\u001b[0;34m\u001b[0m\u001b[0m\n",
            "\u001b[0;32m/usr/local/lib/python3.7/dist-packages/tensorflow/python/eager/function.py\u001b[0m in \u001b[0;36mcall\u001b[0;34m(self, ctx, args, cancellation_manager)\u001b[0m\n\u001b[1;32m    601\u001b[0m               \u001b[0minputs\u001b[0m\u001b[0;34m=\u001b[0m\u001b[0margs\u001b[0m\u001b[0;34m,\u001b[0m\u001b[0;34m\u001b[0m\u001b[0;34m\u001b[0m\u001b[0m\n\u001b[1;32m    602\u001b[0m               \u001b[0mattrs\u001b[0m\u001b[0;34m=\u001b[0m\u001b[0mattrs\u001b[0m\u001b[0;34m,\u001b[0m\u001b[0;34m\u001b[0m\u001b[0;34m\u001b[0m\u001b[0m\n\u001b[0;32m--> 603\u001b[0;31m               ctx=ctx)\n\u001b[0m\u001b[1;32m    604\u001b[0m         \u001b[0;32melse\u001b[0m\u001b[0;34m:\u001b[0m\u001b[0;34m\u001b[0m\u001b[0;34m\u001b[0m\u001b[0m\n\u001b[1;32m    605\u001b[0m           outputs = execute.execute_with_cancellation(\n",
            "\u001b[0;32m/usr/local/lib/python3.7/dist-packages/tensorflow/python/eager/execute.py\u001b[0m in \u001b[0;36mquick_execute\u001b[0;34m(op_name, num_outputs, inputs, attrs, ctx, name)\u001b[0m\n\u001b[1;32m     57\u001b[0m     \u001b[0mctx\u001b[0m\u001b[0;34m.\u001b[0m\u001b[0mensure_initialized\u001b[0m\u001b[0;34m(\u001b[0m\u001b[0;34m)\u001b[0m\u001b[0;34m\u001b[0m\u001b[0;34m\u001b[0m\u001b[0m\n\u001b[1;32m     58\u001b[0m     tensors = pywrap_tfe.TFE_Py_Execute(ctx._handle, device_name, op_name,\n\u001b[0;32m---> 59\u001b[0;31m                                         inputs, attrs, num_outputs)\n\u001b[0m\u001b[1;32m     60\u001b[0m   \u001b[0;32mexcept\u001b[0m \u001b[0mcore\u001b[0m\u001b[0;34m.\u001b[0m\u001b[0m_NotOkStatusException\u001b[0m \u001b[0;32mas\u001b[0m \u001b[0me\u001b[0m\u001b[0;34m:\u001b[0m\u001b[0;34m\u001b[0m\u001b[0;34m\u001b[0m\u001b[0m\n\u001b[1;32m     61\u001b[0m     \u001b[0;32mif\u001b[0m \u001b[0mname\u001b[0m \u001b[0;32mis\u001b[0m \u001b[0;32mnot\u001b[0m \u001b[0;32mNone\u001b[0m\u001b[0;34m:\u001b[0m\u001b[0;34m\u001b[0m\u001b[0;34m\u001b[0m\u001b[0m\n",
            "\u001b[0;31mKeyboardInterrupt\u001b[0m: "
          ]
        }
      ]
    },
    {
      "cell_type": "markdown",
      "source": [
        "### ***AddNIST Visualization***"
      ],
      "metadata": {
        "id": "0-P2XanhEuYX"
      }
    },
    {
      "cell_type": "code",
      "metadata": {
        "id": "rXtmXf8ZQ2rq"
      },
      "source": [
        "# Stephen's code\n",
        "\n",
        "def image_normalization(arr):\n",
        "    return (arr - arr.min())/(arr.max()-arr.min())\n",
        "\n",
        "def disable_ax_ticks(ax):\n",
        "    ax.set_xticks([])\n",
        "    ax.set_xticks([], minor=True)\n",
        "    ax.set_yticks([])\n",
        "    ax.set_yticks([], minor=True)\n",
        "\n",
        "def show_mnist_examples(x, y):\n",
        "    fig = plt.figure(constrained_layout=True,figsize=(6,4), dpi=100)\n",
        "    gs = fig.add_gridspec(3,4)\n",
        "    main_ax = fig.add_subplot(gs[:3,:3])\n",
        "    fig.suptitle(y)\n",
        "    #main_ax.imshow(np.moveaxis(x, 0, -1))# .imshow(x)\n",
        "    main_ax.imshow(image_normalization(np.moveaxis(x, 0, -1)))\n",
        "    disable_ax_ticks(main_ax)\n",
        "\n",
        "    for j in range(3):\n",
        "      c_ax = fig.add_subplot(gs[j,-1])\n",
        "      subimage = x.copy()\n",
        "      subimage[:j] = 0\n",
        "      subimage[j+1:] = 0\n",
        "      subimage[j] = subimage[j]-subimage[j].min()\n",
        "      c_ax.imshow(image_normalization(np.moveaxis(subimage, 0, -1)))\n",
        "      disable_ax_ticks(c_ax)\n",
        "    plt.show()"
      ],
      "execution_count": null,
      "outputs": []
    },
    {
      "cell_type": "markdown",
      "source": [
        "### ***AddNIST Sample(s) prediction***"
      ],
      "metadata": {
        "id": "Q6fTrhPjKgiw"
      }
    },
    {
      "cell_type": "code",
      "source": [
        "# Single sample prediction - test_X[i]\n",
        "def SamplePred(x, model):\n",
        "\n",
        "    digits = []\n",
        "    print('___________________________________________\\n',\n",
        "          'Color Channels:')\n",
        "    for i in range(3):\n",
        "      \n",
        "      # Color channel separation\n",
        "      piece = x.copy()\n",
        "      piece[:i] = 0\n",
        "      piece[i+1:] = 0\n",
        "      piece[i] = piece[i]-piece[i].min()\n",
        "\n",
        "      # Prediction of a single channel\n",
        "      prediction = np.argmax(model.predict(np.array([piece[i]]))) # (None, 28, 28)\n",
        "\n",
        "      print(i+1, 'digit:', prediction)\n",
        "      digits.append(prediction)\n",
        "\n",
        "    finalPrediction = sum(digits) - 1\n",
        "\n",
        "    return finalPrediction\n",
        "\n",
        "# Dataset predictions - test_X\n",
        "def dataPred(x, model, length):\n",
        "\n",
        "    # test_X[0] = 10000 (Computationally expensive)\n",
        "\n",
        "    finalPred = np.array([])\n",
        "\n",
        "    for i in range(length): # (i, 3, 28, 28)\n",
        "\n",
        "      digits = np.array([])      \n",
        "      for j in range(3):\n",
        "        \n",
        "        piece = x[i].copy()\n",
        "        piece[:j] = 0\n",
        "        piece[j+1:] = 0\n",
        "        piece[j] = piece[j]-piece[j].min()\n",
        "\n",
        "        prediction = np.argmax(model.predict(np.array([piece[j]])))\n",
        "        digits = np.append(digits, prediction) \n",
        "      \n",
        "      finalPred = np.append(finalPred, sum(digits) - 1).astype(int)\n",
        "\n",
        "    return finalPred"
      ],
      "metadata": {
        "id": "FalmkeuFJOmB"
      },
      "execution_count": null,
      "outputs": []
    },
    {
      "cell_type": "markdown",
      "source": [
        "### ***Random Sample Prediction***"
      ],
      "metadata": {
        "id": "TU1BZyJULRK1"
      }
    },
    {
      "cell_type": "code",
      "metadata": {
        "id": "YGJjHrFpYQpb",
        "colab": {
          "base_uri": "https://localhost:8080/",
          "height": 550
        },
        "outputId": "7882256a-a63e-44ce-a386-551785d5074e"
      },
      "source": [
        "import random\n",
        "\n",
        "count = test_X.shape[0]\n",
        "ri = random.randrange(count)\n",
        "\n",
        "# Visualization\n",
        "show_mnist_examples(test_X[ri], test_y[ri])\n",
        "\n",
        "# Random Sample Prediction\n",
        "prediction = SamplePred(test_X[ri], mnist_model)\n",
        "\n",
        "print('================================================================\\n',\n",
        "      'Final prediction for your sample using MNIST Deep Learning model:', prediction)\n",
        "\n"
      ],
      "execution_count": null,
      "outputs": [
        {
          "output_type": "display_data",
          "data": {
            "image/png": "[encoded data removed]",
            "text/plain": [
              "<Figure size 600x400 with 4 Axes>"
            ]
          },
          "metadata": {}
        },
        {
          "output_type": "stream",
          "name": "stdout",
          "text": [
            "___________________________________________\n",
            " Color Channels:\n",
            "1 digit: 4\n",
            "2 digit: 0\n",
            "3 digit: 0\n",
            "================================================================\n",
            " Final prediction for your sample using MNIST Deep Learning model: 3\n"
          ]
        }
      ]
    },
    {
      "cell_type": "markdown",
      "source": [
        "### ***First 400 predictions***"
      ],
      "metadata": {
        "id": "EpbiHZ9z968S"
      }
    },
    {
      "cell_type": "code",
      "source": [
        "pr = dataPred(test_X, mnist_model, 400)"
      ],
      "metadata": {
        "id": "ETFTHpEaiC-u"
      },
      "execution_count": null,
      "outputs": []
    },
    {
      "cell_type": "markdown",
      "source": [
        "### ***Overall Solution Metrics***"
      ],
      "metadata": {
        "id": "KuAYNfHqaRm1"
      }
    },
    {
      "cell_type": "code",
      "source": [
        "# Since we are getting our final prediction outside of the model:\n",
        "from sklearn.metrics import f1_score\n",
        "\n",
        "# Loss & Accuracy using MNIST test x, y\n",
        "val_loss, val_acc = mnist_model.evaluate(mnist_test_X, mnist_test_y, verbose=0)\n",
        "\n",
        "# True values y\n",
        "tr = test_y[:400]\n",
        "# tr = tf.keras.utils.to_categorical(tr, num_classes=20)\n",
        "\n",
        "# F1 score 2*(precision*recall/precision+recall)\n",
        "print('Metrics\\n',\n",
        "      '___________________________________________\\n',\n",
        "      'Accuracy: ', val_acc, '\\n',\n",
        "      'Loss: ', val_loss, '\\n',\n",
        "      'F1 score:', f1_score(tr, pr, average='micro'))\n"
      ],
      "metadata": {
        "id": "uVLYR4zpMp7H",
        "colab": {
          "base_uri": "https://localhost:8080/"
        },
        "outputId": "bb51b3e8-1f06-4e83-bf45-57b564f4a05b"
      },
      "execution_count": null,
      "outputs": [
        {
          "output_type": "stream",
          "name": "stdout",
          "text": [
            "Metrics\n",
            " ___________________________________________\n",
            " Accuracy:  0.9743000268936157 \n",
            " Loss:  0.12172293663024902 \n",
            " F1 score: 0.9225\n"
          ]
        }
      ]
    },
    {
      "cell_type": "markdown",
      "source": [
        "### ***True vs Predicted values***"
      ],
      "metadata": {
        "id": "_o4rpZR4_n73"
      }
    },
    {
      "cell_type": "code",
      "source": [
        "for i in range(len(tr)):\n",
        "\n",
        "    if(tr[i] == pr[i]):\n",
        "      print(i, ' True value: ', tr[i], ' Predicted value: ', pr[i])\n",
        "\n",
        "    else:\n",
        "      print(i, '\\033[2;37;41m True value: ', tr[i], ' Predicted value: ', pr[i], '\\033[0;0m')\n",
        " "
      ],
      "metadata": {
        "id": "i0hKHl-ta0na",
        "colab": {
          "base_uri": "https://localhost:8080/"
        },
        "outputId": "02163248-d149-4e4f-b37c-71a24288f712"
      },
      "execution_count": null,
      "outputs": [
        {
          "output_type": "stream",
          "name": "stdout",
          "text": [
            "0  True value:  4  Predicted value:  4\n",
            "1  True value:  15  Predicted value:  15\n",
            "2  True value:  1  Predicted value:  1\n",
            "3  True value:  5  Predicted value:  5\n",
            "4  True value:  17  Predicted value:  17\n",
            "5  True value:  19  Predicted value:  19\n",
            "6  True value:  1  Predicted value:  1\n",
            "7  True value:  14  Predicted value:  14\n",
            "8  True value:  8  Predicted value:  8\n",
            "9  True value:  13  Predicted value:  13\n",
            "10  True value:  18  Predicted value:  18\n",
            "11  True value:  18  Predicted value:  18\n",
            "12  True value:  12  Predicted value:  12\n",
            "13  True value:  19  Predicted value:  19\n",
            "14  True value:  18  Predicted value:  18\n",
            "15  True value:  16  Predicted value:  16\n",
            "16  True value:  14  Predicted value:  14\n",
            "17  True value:  9  Predicted value:  9\n",
            "18  True value:  10  Predicted value:  10\n",
            "19  True value:  0  Predicted value:  0\n",
            "20  True value:  3  Predicted value:  3\n",
            "21  True value:  1  Predicted value:  1\n",
            "22  True value:  15  Predicted value:  15\n",
            "23 \u001b[2;37;41m True value:  19  Predicted value:  12 \u001b[0;0m\n",
            "24  True value:  16  Predicted value:  16\n",
            "25  True value:  11  Predicted value:  11\n",
            "26  True value:  13  Predicted value:  13\n",
            "27 \u001b[2;37;41m True value:  14  Predicted value:  12 \u001b[0;0m\n",
            "28  True value:  12  Predicted value:  12\n",
            "29  True value:  6  Predicted value:  6\n",
            "30  True value:  11  Predicted value:  11\n",
            "31  True value:  11  Predicted value:  11\n",
            "32  True value:  15  Predicted value:  15\n",
            "33  True value:  0  Predicted value:  0\n",
            "34  True value:  17  Predicted value:  17\n",
            "35  True value:  7  Predicted value:  7\n",
            "36  True value:  14  Predicted value:  14\n",
            "37  True value:  14  Predicted value:  14\n",
            "38  True value:  3  Predicted value:  3\n",
            "39  True value:  1  Predicted value:  1\n",
            "40  True value:  6  Predicted value:  6\n",
            "41 \u001b[2;37;41m True value:  15  Predicted value:  10 \u001b[0;0m\n",
            "42  True value:  18  Predicted value:  18\n",
            "43  True value:  19  Predicted value:  19\n",
            "44  True value:  14  Predicted value:  14\n",
            "45  True value:  17  Predicted value:  17\n",
            "46  True value:  11  Predicted value:  11\n",
            "47  True value:  9  Predicted value:  9\n",
            "48  True value:  10  Predicted value:  10\n",
            "49  True value:  4  Predicted value:  4\n",
            "50  True value:  11  Predicted value:  11\n",
            "51  True value:  7  Predicted value:  7\n",
            "52  True value:  15  Predicted value:  15\n",
            "53  True value:  8  Predicted value:  8\n",
            "54  True value:  3  Predicted value:  3\n",
            "55  True value:  12  Predicted value:  12\n",
            "56  True value:  10  Predicted value:  10\n",
            "57  True value:  15  Predicted value:  15\n",
            "58 \u001b[2;37;41m True value:  5  Predicted value:  9 \u001b[0;0m\n",
            "59  True value:  19  Predicted value:  19\n",
            "60  True value:  4  Predicted value:  4\n",
            "61 \u001b[2;37;41m True value:  13  Predicted value:  18 \u001b[0;0m\n",
            "62  True value:  3  Predicted value:  3\n",
            "63  True value:  16  Predicted value:  16\n",
            "64  True value:  11  Predicted value:  11\n",
            "65 \u001b[2;37;41m True value:  19  Predicted value:  14 \u001b[0;0m\n",
            "66  True value:  10  Predicted value:  10\n",
            "67  True value:  12  Predicted value:  12\n",
            "68  True value:  14  Predicted value:  14\n",
            "69  True value:  9  Predicted value:  9\n",
            "70  True value:  10  Predicted value:  10\n",
            "71  True value:  8  Predicted value:  8\n",
            "72  True value:  5  Predicted value:  5\n",
            "73  True value:  3  Predicted value:  3\n",
            "74  True value:  11  Predicted value:  11\n",
            "75  True value:  4  Predicted value:  4\n",
            "76  True value:  18  Predicted value:  18\n",
            "77  True value:  18  Predicted value:  18\n",
            "78  True value:  12  Predicted value:  12\n",
            "79  True value:  15  Predicted value:  15\n",
            "80  True value:  14  Predicted value:  14\n",
            "81  True value:  4  Predicted value:  4\n",
            "82  True value:  10  Predicted value:  10\n",
            "83  True value:  3  Predicted value:  3\n",
            "84  True value:  13  Predicted value:  13\n",
            "85  True value:  11  Predicted value:  11\n",
            "86  True value:  2  Predicted value:  2\n",
            "87  True value:  18  Predicted value:  18\n",
            "88  True value:  1  Predicted value:  1\n",
            "89  True value:  3  Predicted value:  3\n",
            "90  True value:  11  Predicted value:  11\n",
            "91  True value:  6  Predicted value:  6\n",
            "92  True value:  16  Predicted value:  16\n",
            "93 \u001b[2;37;41m True value:  18  Predicted value:  12 \u001b[0;0m\n",
            "94  True value:  3  Predicted value:  3\n",
            "95  True value:  19  Predicted value:  19\n",
            "96  True value:  9  Predicted value:  9\n",
            "97  True value:  10  Predicted value:  10\n",
            "98  True value:  1  Predicted value:  1\n",
            "99  True value:  7  Predicted value:  7\n",
            "100  True value:  7  Predicted value:  7\n",
            "101  True value:  13  Predicted value:  13\n",
            "102 \u001b[2;37;41m True value:  16  Predicted value:  8 \u001b[0;0m\n",
            "103  True value:  17  Predicted value:  17\n",
            "104  True value:  16  Predicted value:  16\n",
            "105  True value:  10  Predicted value:  10\n",
            "106  True value:  3  Predicted value:  3\n",
            "107  True value:  5  Predicted value:  5\n",
            "108  True value:  14  Predicted value:  14\n",
            "109  True value:  6  Predicted value:  6\n",
            "110  True value:  7  Predicted value:  7\n",
            "111  True value:  15  Predicted value:  15\n",
            "112  True value:  9  Predicted value:  9\n",
            "113 \u001b[2;37;41m True value:  16  Predicted value:  11 \u001b[0;0m\n",
            "114  True value:  15  Predicted value:  15\n",
            "115  True value:  5  Predicted value:  5\n",
            "116  True value:  0  Predicted value:  0\n",
            "117  True value:  11  Predicted value:  11\n",
            "118  True value:  16  Predicted value:  16\n",
            "119  True value:  11  Predicted value:  11\n",
            "120  True value:  14  Predicted value:  14\n",
            "121  True value:  1  Predicted value:  1\n",
            "122  True value:  10  Predicted value:  10\n",
            "123  True value:  3  Predicted value:  3\n",
            "124  True value:  13  Predicted value:  13\n",
            "125  True value:  2  Predicted value:  2\n",
            "126  True value:  11  Predicted value:  11\n",
            "127  True value:  18  Predicted value:  18\n",
            "128 \u001b[2;37;41m True value:  6  Predicted value:  5 \u001b[0;0m\n",
            "129  True value:  16  Predicted value:  16\n",
            "130  True value:  4  Predicted value:  4\n",
            "131  True value:  12  Predicted value:  12\n",
            "132  True value:  10  Predicted value:  10\n",
            "133  True value:  4  Predicted value:  4\n",
            "134  True value:  11  Predicted value:  11\n",
            "135  True value:  12  Predicted value:  12\n",
            "136  True value:  3  Predicted value:  3\n",
            "137  True value:  17  Predicted value:  17\n",
            "138 \u001b[2;37;41m True value:  8  Predicted value:  2 \u001b[0;0m\n",
            "139  True value:  9  Predicted value:  9\n",
            "140  True value:  6  Predicted value:  6\n",
            "141 \u001b[2;37;41m True value:  18  Predicted value:  15 \u001b[0;0m\n",
            "142  True value:  2  Predicted value:  2\n",
            "143  True value:  16  Predicted value:  16\n",
            "144  True value:  17  Predicted value:  17\n",
            "145  True value:  12  Predicted value:  12\n",
            "146  True value:  19  Predicted value:  19\n",
            "147  True value:  4  Predicted value:  4\n",
            "148  True value:  2  Predicted value:  2\n",
            "149  True value:  16  Predicted value:  16\n",
            "150  True value:  12  Predicted value:  12\n",
            "151  True value:  3  Predicted value:  3\n",
            "152  True value:  18  Predicted value:  18\n",
            "153  True value:  19  Predicted value:  19\n",
            "154  True value:  7  Predicted value:  7\n",
            "155  True value:  15  Predicted value:  15\n",
            "156  True value:  10  Predicted value:  10\n",
            "157  True value:  11  Predicted value:  11\n",
            "158  True value:  2  Predicted value:  2\n",
            "159  True value:  13  Predicted value:  13\n",
            "160  True value:  4  Predicted value:  4\n",
            "161  True value:  18  Predicted value:  18\n",
            "162  True value:  16  Predicted value:  16\n",
            "163  True value:  15  Predicted value:  15\n",
            "164  True value:  10  Predicted value:  10\n",
            "165  True value:  16  Predicted value:  16\n",
            "166  True value:  2  Predicted value:  2\n",
            "167  True value:  6  Predicted value:  6\n",
            "168  True value:  4  Predicted value:  4\n",
            "169  True value:  19  Predicted value:  19\n",
            "170  True value:  7  Predicted value:  7\n",
            "171  True value:  13  Predicted value:  13\n",
            "172  True value:  4  Predicted value:  4\n",
            "173  True value:  1  Predicted value:  1\n",
            "174  True value:  17  Predicted value:  17\n",
            "175  True value:  5  Predicted value:  5\n",
            "176  True value:  7  Predicted value:  7\n",
            "177  True value:  10  Predicted value:  10\n",
            "178 \u001b[2;37;41m True value:  17  Predicted value:  12 \u001b[0;0m\n",
            "179 \u001b[2;37;41m True value:  19  Predicted value:  13 \u001b[0;0m\n",
            "180  True value:  15  Predicted value:  15\n",
            "181  True value:  3  Predicted value:  3\n",
            "182  True value:  16  Predicted value:  16\n",
            "183  True value:  6  Predicted value:  6\n",
            "184  True value:  13  Predicted value:  13\n",
            "185  True value:  7  Predicted value:  7\n",
            "186  True value:  10  Predicted value:  10\n",
            "187  True value:  4  Predicted value:  4\n",
            "188  True value:  14  Predicted value:  14\n",
            "189  True value:  13  Predicted value:  13\n",
            "190  True value:  12  Predicted value:  12\n",
            "191  True value:  12  Predicted value:  12\n",
            "192  True value:  4  Predicted value:  4\n",
            "193 \u001b[2;37;41m True value:  17  Predicted value:  12 \u001b[0;0m\n",
            "194  True value:  19  Predicted value:  19\n",
            "195  True value:  10  Predicted value:  10\n",
            "196  True value:  13  Predicted value:  13\n",
            "197  True value:  6  Predicted value:  6\n",
            "198  True value:  18  Predicted value:  18\n",
            "199  True value:  18  Predicted value:  18\n",
            "200  True value:  11  Predicted value:  11\n",
            "201  True value:  10  Predicted value:  10\n",
            "202  True value:  13  Predicted value:  13\n",
            "203  True value:  14  Predicted value:  14\n",
            "204  True value:  7  Predicted value:  7\n",
            "205  True value:  15  Predicted value:  15\n",
            "206  True value:  9  Predicted value:  9\n",
            "207  True value:  7  Predicted value:  7\n",
            "208  True value:  8  Predicted value:  8\n",
            "209  True value:  1  Predicted value:  1\n",
            "210  True value:  19  Predicted value:  19\n",
            "211  True value:  4  Predicted value:  4\n",
            "212  True value:  2  Predicted value:  2\n",
            "213  True value:  13  Predicted value:  13\n",
            "214  True value:  11  Predicted value:  11\n",
            "215 \u001b[2;37;41m True value:  18  Predicted value:  13 \u001b[0;0m\n",
            "216  True value:  14  Predicted value:  14\n",
            "217  True value:  1  Predicted value:  1\n",
            "218  True value:  8  Predicted value:  8\n",
            "219  True value:  14  Predicted value:  14\n",
            "220  True value:  2  Predicted value:  2\n",
            "221  True value:  3  Predicted value:  3\n",
            "222  True value:  10  Predicted value:  10\n",
            "223  True value:  8  Predicted value:  8\n",
            "224  True value:  16  Predicted value:  16\n",
            "225  True value:  19  Predicted value:  19\n",
            "226 \u001b[2;37;41m True value:  19  Predicted value:  21 \u001b[0;0m\n",
            "227  True value:  14  Predicted value:  14\n",
            "228  True value:  14  Predicted value:  14\n",
            "229  True value:  4  Predicted value:  4\n",
            "230  True value:  4  Predicted value:  4\n",
            "231  True value:  1  Predicted value:  1\n",
            "232  True value:  9  Predicted value:  9\n",
            "233  True value:  8  Predicted value:  8\n",
            "234  True value:  8  Predicted value:  8\n",
            "235  True value:  1  Predicted value:  1\n",
            "236  True value:  16  Predicted value:  16\n",
            "237  True value:  1  Predicted value:  1\n",
            "238  True value:  12  Predicted value:  12\n",
            "239  True value:  10  Predicted value:  10\n",
            "240  True value:  8  Predicted value:  8\n",
            "241  True value:  6  Predicted value:  6\n",
            "242  True value:  17  Predicted value:  17\n",
            "243  True value:  5  Predicted value:  5\n",
            "244  True value:  13  Predicted value:  13\n",
            "245  True value:  17  Predicted value:  17\n",
            "246  True value:  4  Predicted value:  4\n",
            "247  True value:  11  Predicted value:  11\n",
            "248  True value:  6  Predicted value:  6\n",
            "249 \u001b[2;37;41m True value:  4  Predicted value:  9 \u001b[0;0m\n",
            "250  True value:  16  Predicted value:  16\n",
            "251  True value:  1  Predicted value:  1\n",
            "252  True value:  8  Predicted value:  8\n",
            "253  True value:  13  Predicted value:  13\n",
            "254 \u001b[2;37;41m True value:  17  Predicted value:  15 \u001b[0;0m\n",
            "255  True value:  13  Predicted value:  13\n",
            "256  True value:  0  Predicted value:  0\n",
            "257  True value:  5  Predicted value:  5\n",
            "258  True value:  19  Predicted value:  19\n",
            "259  True value:  8  Predicted value:  8\n",
            "260  True value:  14  Predicted value:  14\n",
            "261  True value:  18  Predicted value:  18\n",
            "262  True value:  10  Predicted value:  10\n",
            "263  True value:  8  Predicted value:  8\n",
            "264  True value:  12  Predicted value:  12\n",
            "265  True value:  12  Predicted value:  12\n",
            "266  True value:  18  Predicted value:  18\n",
            "267  True value:  3  Predicted value:  3\n",
            "268  True value:  5  Predicted value:  5\n",
            "269  True value:  19  Predicted value:  19\n",
            "270 \u001b[2;37;41m True value:  14  Predicted value:  19 \u001b[0;0m\n",
            "271  True value:  13  Predicted value:  13\n",
            "272  True value:  14  Predicted value:  14\n",
            "273  True value:  6  Predicted value:  6\n",
            "274  True value:  1  Predicted value:  1\n",
            "275 \u001b[2;37;41m True value:  19  Predicted value:  18 \u001b[0;0m\n",
            "276  True value:  8  Predicted value:  8\n",
            "277  True value:  9  Predicted value:  9\n",
            "278  True value:  1  Predicted value:  1\n",
            "279  True value:  13  Predicted value:  13\n",
            "280  True value:  9  Predicted value:  9\n",
            "281  True value:  7  Predicted value:  7\n",
            "282  True value:  7  Predicted value:  7\n",
            "283 \u001b[2;37;41m True value:  1  Predicted value:  0 \u001b[0;0m\n",
            "284 \u001b[2;37;41m True value:  5  Predicted value:  9 \u001b[0;0m\n",
            "285  True value:  15  Predicted value:  15\n",
            "286  True value:  1  Predicted value:  1\n",
            "287  True value:  8  Predicted value:  8\n",
            "288  True value:  1  Predicted value:  1\n",
            "289  True value:  10  Predicted value:  10\n",
            "290  True value:  17  Predicted value:  17\n",
            "291  True value:  18  Predicted value:  18\n",
            "292 \u001b[2;37;41m True value:  16  Predicted value:  8 \u001b[0;0m\n",
            "293  True value:  7  Predicted value:  7\n",
            "294 \u001b[2;37;41m True value:  3  Predicted value:  4 \u001b[0;0m\n",
            "295 \u001b[2;37;41m True value:  13  Predicted value:  6 \u001b[0;0m\n",
            "296  True value:  16  Predicted value:  16\n",
            "297  True value:  10  Predicted value:  10\n",
            "298  True value:  6  Predicted value:  6\n",
            "299  True value:  13  Predicted value:  13\n",
            "300  True value:  15  Predicted value:  15\n",
            "301  True value:  3  Predicted value:  3\n",
            "302  True value:  11  Predicted value:  11\n",
            "303  True value:  4  Predicted value:  4\n",
            "304  True value:  10  Predicted value:  10\n",
            "305  True value:  12  Predicted value:  12\n",
            "306 \u001b[2;37;41m True value:  7  Predicted value:  9 \u001b[0;0m\n",
            "307  True value:  12  Predicted value:  12\n",
            "308  True value:  14  Predicted value:  14\n",
            "309  True value:  14  Predicted value:  14\n",
            "310  True value:  10  Predicted value:  10\n",
            "311  True value:  9  Predicted value:  9\n",
            "312  True value:  2  Predicted value:  2\n",
            "313  True value:  5  Predicted value:  5\n",
            "314  True value:  7  Predicted value:  7\n",
            "315 \u001b[2;37;41m True value:  5  Predicted value:  7 \u001b[0;0m\n",
            "316  True value:  10  Predicted value:  10\n",
            "317  True value:  2  Predicted value:  2\n",
            "318  True value:  8  Predicted value:  8\n",
            "319  True value:  12  Predicted value:  12\n",
            "320  True value:  4  Predicted value:  4\n",
            "321  True value:  6  Predicted value:  6\n",
            "322  True value:  1  Predicted value:  1\n",
            "323  True value:  12  Predicted value:  12\n",
            "324  True value:  17  Predicted value:  17\n",
            "325  True value:  4  Predicted value:  4\n",
            "326  True value:  11  Predicted value:  11\n",
            "327  True value:  11  Predicted value:  11\n",
            "328 \u001b[2;37;41m True value:  19  Predicted value:  24 \u001b[0;0m\n",
            "329  True value:  11  Predicted value:  11\n",
            "330  True value:  19  Predicted value:  19\n",
            "331  True value:  7  Predicted value:  7\n",
            "332  True value:  10  Predicted value:  10\n",
            "333  True value:  0  Predicted value:  0\n",
            "334  True value:  3  Predicted value:  3\n",
            "335  True value:  8  Predicted value:  8\n",
            "336  True value:  9  Predicted value:  9\n",
            "337  True value:  13  Predicted value:  13\n",
            "338  True value:  15  Predicted value:  15\n",
            "339  True value:  19  Predicted value:  19\n",
            "340  True value:  2  Predicted value:  2\n",
            "341  True value:  17  Predicted value:  17\n",
            "342  True value:  0  Predicted value:  0\n",
            "343  True value:  17  Predicted value:  17\n",
            "344 \u001b[2;37;41m True value:  19  Predicted value:  10 \u001b[0;0m\n",
            "345  True value:  15  Predicted value:  15\n",
            "346  True value:  17  Predicted value:  17\n",
            "347  True value:  13  Predicted value:  13\n",
            "348  True value:  4  Predicted value:  4\n",
            "349  True value:  9  Predicted value:  9\n",
            "350  True value:  12  Predicted value:  12\n",
            "351  True value:  5  Predicted value:  5\n",
            "352  True value:  16  Predicted value:  16\n",
            "353  True value:  5  Predicted value:  5\n",
            "354  True value:  18  Predicted value:  18\n",
            "355  True value:  3  Predicted value:  3\n",
            "356  True value:  15  Predicted value:  15\n",
            "357  True value:  4  Predicted value:  4\n",
            "358  True value:  17  Predicted value:  17\n",
            "359  True value:  15  Predicted value:  15\n",
            "360  True value:  15  Predicted value:  15\n",
            "361  True value:  12  Predicted value:  12\n",
            "362  True value:  12  Predicted value:  12\n",
            "363  True value:  7  Predicted value:  7\n",
            "364  True value:  10  Predicted value:  10\n",
            "365  True value:  14  Predicted value:  14\n",
            "366  True value:  13  Predicted value:  13\n",
            "367  True value:  12  Predicted value:  12\n",
            "368  True value:  17  Predicted value:  17\n",
            "369  True value:  0  Predicted value:  0\n",
            "370  True value:  3  Predicted value:  3\n",
            "371  True value:  13  Predicted value:  13\n",
            "372  True value:  16  Predicted value:  16\n",
            "373  True value:  7  Predicted value:  7\n",
            "374 \u001b[2;37;41m True value:  10  Predicted value:  5 \u001b[0;0m\n",
            "375  True value:  12  Predicted value:  12\n",
            "376  True value:  13  Predicted value:  13\n",
            "377  True value:  3  Predicted value:  3\n",
            "378  True value:  11  Predicted value:  11\n",
            "379  True value:  12  Predicted value:  12\n",
            "380  True value:  16  Predicted value:  16\n",
            "381  True value:  9  Predicted value:  9\n",
            "382  True value:  7  Predicted value:  7\n",
            "383  True value:  8  Predicted value:  8\n",
            "384  True value:  5  Predicted value:  5\n",
            "385  True value:  1  Predicted value:  1\n",
            "386  True value:  14  Predicted value:  14\n",
            "387  True value:  14  Predicted value:  14\n",
            "388  True value:  9  Predicted value:  9\n",
            "389  True value:  8  Predicted value:  8\n",
            "390  True value:  16  Predicted value:  16\n",
            "391  True value:  7  Predicted value:  7\n",
            "392  True value:  18  Predicted value:  18\n",
            "393  True value:  1  Predicted value:  1\n",
            "394  True value:  8  Predicted value:  8\n",
            "395  True value:  8  Predicted value:  8\n",
            "396  True value:  1  Predicted value:  1\n",
            "397  True value:  7  Predicted value:  7\n",
            "398  True value:  17  Predicted value:  17\n",
            "399  True value:  10  Predicted value:  10\n"
          ]
        }
      ]
    }
  ]
}